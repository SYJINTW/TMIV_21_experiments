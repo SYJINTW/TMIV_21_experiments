{
 "cells": [
  {
   "cell_type": "code",
   "execution_count": 14,
   "metadata": {},
   "outputs": [
    {
     "name": "stdout",
     "output_type": "stream",
     "text": [
      "(500,)\n",
      "Ttest_indResult(statistic=-0.22733561877134456, pvalue=0.8202093392934227)\n",
      "Ttest_indResult(statistic=-0.22733561877134456, pvalue=0.8202095533354997)\n"
     ]
    }
   ],
   "source": [
    "from scipy import stats\n",
    "import numpy as np\n",
    "rng = np.random.default_rng()\n",
    "rvs1 = stats.norm.rvs(loc=5, scale=10, size=500, random_state=rng)\n",
    "print(rvs1.shape)\n",
    "rvs2 = stats.norm.rvs(loc=5, scale=10, size=500, random_state=rng)\n",
    "print(stats.ttest_ind(rvs1, rvs2))\n",
    "print(stats.ttest_ind(rvs1, rvs2, equal_var=False))"
   ]
  }
 ],
 "metadata": {
  "interpreter": {
   "hash": "7603e998d69718e8de5818b4d0be84ccaff45f099ee68dbe2e69382ac62b3f5c"
  },
  "kernelspec": {
   "display_name": "Python 3.9.9 64-bit (windows store)",
   "language": "python",
   "name": "python3"
  },
  "language_info": {
   "codemirror_mode": {
    "name": "ipython",
    "version": 3
   },
   "file_extension": ".py",
   "mimetype": "text/x-python",
   "name": "python",
   "nbconvert_exporter": "python",
   "pygments_lexer": "ipython3",
   "version": "3.8.8"
  },
  "orig_nbformat": 4
 },
 "nbformat": 4,
 "nbformat_minor": 2
}

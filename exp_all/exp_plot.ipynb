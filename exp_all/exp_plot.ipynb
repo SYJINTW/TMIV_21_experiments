{
 "cells": [
  {
   "cell_type": "code",
   "execution_count": 1,
   "metadata": {},
   "outputs": [],
   "source": [
    "import os\n",
    "import numpy as np\n",
    "import pandas as pd\n",
    "import matplotlib.pyplot as plt\n",
    "import seaborn as sns\n",
    "import scipy\n",
    "import math"
   ]
  },
  {
   "cell_type": "code",
   "execution_count": null,
   "metadata": {},
   "outputs": [],
   "source": [
    "def test(camera_positions, scenes, QPs, synthesizers, numGroups, pose_traces, numFrame):\n",
    "    df = pd.DataFrame()\n",
    "    df_tmp = pd.read_csv(f'./results/all_nG1.csv')\n",
    "    df = df.append(df_tmp)\n",
    "\n",
    "    \n",
    "    \n",
    "    \n",
    "    for scene in scenes:\n",
    "        scene = 'office'\n",
    "        print(scene)\n",
    "        df_tmp = df\n",
    "        df_tmp = df_tmp.loc[(df[f'synthesizer'] == 'AdditiveSynthesizer') & (df[\"camera_position\"] != 'sphere_6x6')]\n",
    "        df_tmp = df_tmp.loc[(df[\"scene\"] == scene) & (df[\"QP\"] == 20)]\n",
    "        \n",
    "        # # PSNR\n",
    "        # ax = sns.barplot(x='camera_position', y=f'psnr_mean', hue='pose_traces', data=df_tmp)\n",
    "        # ax.set(xlabel=\"Camera placement\", ylabel=f\"PSNR(db)\")\n",
    "        # plt.legend(title=\"\")\n",
    "        # # plt.ylim((40,60))   \n",
    "        # # plt.savefig(f'./img/synthesizer/psnr_camera_position_synthesizer_in_rec20_{scene}.eps', dpi=300)\n",
    "        # # plt.savefig(f'./img/synthesizer/psnr_camera_position_synthesizer_in_rec20_{scene}.png', dpi=300)\n",
    "        # plt.show()\n",
    "\n",
    "        # # SSIM\n",
    "        # ax = sns.barplot(x='camera_position', y=f'ssim_mean', hue='pose_traces', data=df_tmp)\n",
    "        # ax.set(xlabel=\"Camera placement\", ylabel=f\"SSIM\")\n",
    "        # plt.legend(title=\"\")\n",
    "        # # plt.ylim((0,1.0))   \n",
    "        # # plt.savefig(f'./img/synthesizer/psnr_camera_position_synthesizer_in_rec20_{scene}.eps', dpi=300)\n",
    "        # # plt.savefig(f'./img/synthesizer/psnr_camera_position_synthesizer_in_rec20_{scene}.png', dpi=300)\n",
    "        # plt.show()\n",
    "\n",
    "        ax = sns.barplot(x='camera_position', y=f'vmaf_mean', hue='pose_traces', data=df_tmp)\n",
    "        ax.set(xlabel=\"Camera placement\", ylabel=f\"VMAF\")\n",
    "        plt.legend(title=\"\")\n",
    "        # plt.ylim((0,100))   \n",
    "        # plt.savefig(f'./img/synthesizer/psnr_camera_position_synthesizer_in_rec20_{scene}.eps', dpi=300)\n",
    "        # plt.savefig(f'./img/synthesizer/psnr_camera_position_synthesizer_in_rec20_{scene}.png', dpi=300)\n",
    "        plt.show()"
   ]
  },
  {
   "cell_type": "code",
   "execution_count": null,
   "metadata": {},
   "outputs": [],
   "source": [
    "def main():\n",
    "    # setup paras\n",
    "    # camera_positions = np.array([\"6x6\", \"9x4\", \"12x3\", \"18x2\"])\n",
    "    # scenes = np.array(['ArchVizInterior', 'LightroomInteriorDayLight', 'office', 'RealisticRendering', 'XoioBerlinFlat'])\n",
    "    # QPs = np.array([20, 36, 44, 48, 50])\n",
    "    # synthesizers = np.array([\"AdditiveSynthesizer\", \"ViewWeightingSynthesizer\"])\n",
    "    # numGroups = np.array([1])\n",
    "    # pose_traces = np.array([f'pose{i}' for i in range(10)])\n",
    "    # numFrame = 1\n",
    "\n",
    "    # 1\n",
    "    camera_positions = np.array([\"6x6\", \"9x4\", \"12x3\", \"18x2\"])\n",
    "    scenes = np.array(['ArchVizInterior', 'LightroomInteriorDayLight', 'office', 'RealisticRendering', 'XoioBerlinFlat'])\n",
    "    QPs = np.array([20, 36, 44, 48, 50])\n",
    "    synthesizers = np.array([\"AdditiveSynthesizer\", \"ViewWeightingSynthesizer\"])\n",
    "    numGroups = np.array([1, 4])\n",
    "    pose_traces = np.array([f'pose{i}' for i in range(10)])\n",
    "    numFrame = 1\n"
   ]
  },
  {
   "cell_type": "code",
   "execution_count": null,
   "metadata": {},
   "outputs": [],
   "source": [
    "if __name__ == '__main__':\n",
    "    main()"
   ]
  }
 ],
 "metadata": {
  "interpreter": {
   "hash": "4c4e8267fe3b9088a035ae44dec0e1710f1f649c1d516f5cd80e615a12280b47"
  },
  "kernelspec": {
   "display_name": "Python 3.8.8 64-bit ('base': conda)",
   "language": "python",
   "name": "python3"
  },
  "language_info": {
   "codemirror_mode": {
    "name": "ipython",
    "version": 3
   },
   "file_extension": ".py",
   "mimetype": "text/x-python",
   "name": "python",
   "nbconvert_exporter": "python",
   "pygments_lexer": "ipython3",
   "version": "3.8.8"
  },
  "orig_nbformat": 4
 },
 "nbformat": 4,
 "nbformat_minor": 2
}

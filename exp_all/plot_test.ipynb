{
 "cells": [
  {
   "cell_type": "code",
   "execution_count": 165,
   "metadata": {},
   "outputs": [
    {
     "data": {
      "text/plain": [
       "'\\nImage name as {y}_{x}_{hue}_in_{filter}.eps\\n'"
      ]
     },
     "execution_count": 165,
     "metadata": {},
     "output_type": "execute_result"
    }
   ],
   "source": [
    "\"\"\"\n",
    "Image name as {y}_{x}_{hue}_in_{filter}.eps\n",
    "\"\"\""
   ]
  },
  {
   "cell_type": "code",
   "execution_count": 166,
   "metadata": {},
   "outputs": [],
   "source": [
    "import os\n",
    "import numpy as np\n",
    "import pandas as pd\n",
    "# import matplotlib\n",
    "import matplotlib.pyplot as plt\n",
    "import seaborn as sns\n",
    "import scipy\n",
    "import math"
   ]
  },
  {
   "cell_type": "code",
   "execution_count": 167,
   "metadata": {},
   "outputs": [],
   "source": [
    "def all_average_plot(camera_positions, scenes, QPs, synthesizers, numGroups, pose_traces, numFrame):\n",
    "    AdditiveSynthesizer_datas = []\n",
    "    ViewWeightingSynthesizer_datas = []\n",
    "    df = pd.DataFrame()\n",
    "    df_tmp = pd.read_csv(f'./results/all.csv')\n",
    "    df = df.append(df_tmp)\n",
    "\n",
    "    ax_psnr = sns.barplot(x='QP', y='psnr_mean', data = df, capsize=.1)\n",
    "    ax_psnr.set_title(f'Average PSNR')\n",
    "    ax_psnr.set(xlabel=\"QP\", ylabel=\"PSNR\")\n",
    "    ax_psnr.set(ylim=(30,50), yticks=[i for i in range(30,51,5)])\n",
    "    plt.savefig('./img/all_psnr_average_in_QP.eps', dpi=300)\n",
    "    plt.show()"
   ]
  },
  {
   "cell_type": "code",
   "execution_count": null,
   "metadata": {},
   "outputs": [],
   "source": []
  },
  {
   "cell_type": "code",
   "execution_count": 168,
   "metadata": {},
   "outputs": [],
   "source": [
    "def quality_and_encoding_time_plot(camera_positions, scenes, QPs, synthesizers, numGroups, pose_traces, numFrame):\n",
    "    \n",
    "    if not os.path.exists(f\"./img\"):\n",
    "        os.system(f\"mkdir ./img\")\n",
    "    if not os.path.exists(f\"./img/time_plot\"):\n",
    "        os.system(f\"mkdir ./img/time_plot\")\n",
    "    \n",
    "    df = pd.DataFrame()\n",
    "    df_tmp = pd.read_csv(f'./results/all_nG1.csv')\n",
    "    df = df.append(df_tmp)\n",
    "    \n",
    "    for scene in scenes:\n",
    "        df_tmp = df\n",
    "        filter1 = (df[\"synthesizer\"] == 'AdditiveSynthesizer')\n",
    "        df_tmp = df_tmp[filter1]\n",
    "        filter2 = (df[\"scene\"] == scene)\n",
    "        df_tmp = df_tmp[filter2]\n",
    "        \n",
    "        ax = sns.lineplot(x='vmaf_mean', y='TMIV_encoding_time', hue='camera_position', data = df_tmp)\n",
    "        ax.set_title(f'Quality and Encoding time in {scene}')\n",
    "        ax.set(xlabel=\"Vmaf\", ylabel=\"Time(sec)\")\n",
    "        plt.legend(bbox_to_anchor=(1.05, 1), loc=2, borderaxespad=0.)\n",
    "        # plt.savefig(f'./img/bitrate/bitrate_psnr_camera_position_in_{scene}.eps', dpi=300)\n",
    "        # plt.savefig(f'./img/bitrate/bitrate_psnr_camera_position_in_{scene}.png', dpi=300)\n",
    "        # plt.xlim((25,85))\n",
    "        plt.ylim((0.0,750.0))\n",
    "        plt.show()"
   ]
  },
  {
   "cell_type": "code",
   "execution_count": 169,
   "metadata": {},
   "outputs": [],
   "source": [
    "def quality_and_decoding_time_plot(camera_positions, scenes, QPs, synthesizers, numGroups, pose_traces, numFrame):\n",
    "    \n",
    "    if not os.path.exists(f\"./img\"):\n",
    "        os.system(f\"mkdir ./img\")\n",
    "    if not os.path.exists(f\"./img/time_plot\"):\n",
    "        os.system(f\"mkdir ./img/time_plot\")\n",
    "    \n",
    "    df = pd.DataFrame()\n",
    "    df_tmp = pd.read_csv(f'./results/all_nG1.csv')\n",
    "    df = df.append(df_tmp)\n",
    "    \n",
    "    for scene in scenes:\n",
    "        df_tmp = df\n",
    "        filter1 = (df[\"synthesizer\"] == 'AdditiveSynthesizer')\n",
    "        df_tmp = df_tmp[filter1]\n",
    "        filter2 = (df[\"scene\"] == scene)\n",
    "        df_tmp = df_tmp[filter2]\n",
    "        \n",
    "        ax = sns.lineplot(x='vmaf_mean', y='TMIV_decoding_time', hue='camera_position', data = df_tmp)\n",
    "        ax.set_title(f'Quality and Decoding time in {scene}')\n",
    "        ax.set(xlabel=\"Vmaf\", ylabel=\"Time(sec)\")\n",
    "        plt.legend(bbox_to_anchor=(1.05, 1), loc=2, borderaxespad=0.)\n",
    "        # plt.savefig(f'./img/bitrate/bitrate_psnr_camera_position_in_{scene}.eps', dpi=300)\n",
    "        # plt.savefig(f'./img/bitrate/bitrate_psnr_camera_position_in_{scene}.png', dpi=300)\n",
    "        # plt.xlim((25,85))\n",
    "        plt.ylim((0.0,3000.0))\n",
    "        plt.show()"
   ]
  },
  {
   "cell_type": "code",
   "execution_count": 170,
   "metadata": {},
   "outputs": [],
   "source": [
    "def bitrate_and_time_plot(camera_positions, scenes, QPs, synthesizers, numGroups, pose_traces, numFrame):\n",
    "    \n",
    "    if not os.path.exists(f\"./img\"):\n",
    "        os.system(f\"mkdir ./img\")\n",
    "    if not os.path.exists(f\"./img/time_plot\"):\n",
    "        os.system(f\"mkdir ./img/time_plot\")\n",
    "    \n",
    "    df = pd.DataFrame()\n",
    "    df_tmp = pd.read_csv(f'./results/all_nG1.csv')\n",
    "    df = df.append(df_tmp)\n",
    "    \n",
    "    for scene in scenes:\n",
    "        df_tmp = df\n",
    "        filter1 = (df[\"synthesizer\"] == 'AdditiveSynthesizer')\n",
    "        df_tmp = df_tmp[filter1]\n",
    "        filter2 = (df[\"scene\"] == scene)\n",
    "        df_tmp = df_tmp[filter2]\n",
    "        filter2 = (df[\"pose_traces\"] == 'pose1')\n",
    "        df_tmp = df_tmp[filter2]\n",
    "        \n",
    "\n",
    "        total_time = df['TMIV_encoding_time'] + df['TMIV_decoding_time']\n",
    "        # print(total_time)\n",
    "        \n",
    "        ax = sns.lineplot(x='bitrate', y=total_time, hue='camera_position', data = df_tmp)\n",
    "        ax.set_title(f'Bitrate and Total time in {scene}')\n",
    "        ax.set(xlabel=\"Bitrate(bit)\", ylabel=\"Time(sec)\")\n",
    "        plt.legend(bbox_to_anchor=(1.05, 1), loc=2, borderaxespad=0.)\n",
    "        # plt.savefig(f'./img/bitrate/bitrate_psnr_camera_position_in_{scene}.eps', dpi=300)\n",
    "        # plt.savefig(f'./img/bitrate/bitrate_psnr_camera_position_in_{scene}.png', dpi=300)\n",
    "        # plt.xlim((25,85))\n",
    "        # plt.ylim((0.0,3000.0))\n",
    "        plt.show()"
   ]
  },
  {
   "cell_type": "code",
   "execution_count": 171,
   "metadata": {},
   "outputs": [],
   "source": [
    "def quality_metrics_plot(camera_positions, scenes, QPs, synthesizers, numGroups, pose_traces, numFrame):\n",
    "    \n",
    "    if not os.path.exists(f\"./img\"):\n",
    "        os.system(f\"mkdir ./img\")\n",
    "    if not os.path.exists(f\"./img/synthesizer\"):\n",
    "        os.system(f\"mkdir ./img/synthesizer\")\n",
    "    \n",
    "\n",
    "    df = pd.DataFrame()\n",
    "    df_tmp = pd.read_csv(f'./results/all.csv')\n",
    "    df = df.append(df_tmp)\n",
    "\n",
    "    # all pose trace use the same reference source\n",
    "    fliter1 = (df[\"QP\"] == 20) \n",
    "    df_QP = df[fliter1]\n",
    "\n",
    "    # all in one figure\n",
    "    for metric in ['psnr', 'ssim', 'vmaf']:\n",
    "        fliter2 = (df[\"camera_position\"] != 'sphere_6x6') \n",
    "        df_QP = df[fliter2]\n",
    "        df_QP.to_csv(f\"./test.csv\", index=False)\n",
    "\n",
    "        ax = sns.barplot(x='synthesizer', y=f'{metric}_mean', hue='camera_position', data = df_QP)\n",
    "        ax.set_title(f'{metric} in All')\n",
    "        ax.set(xlabel=\"\", ylabel=f\"{metric}\")\n",
    "        # plt.xticks(rotation=60)\n",
    "        # plt.legend(bbox_to_anchor=(1.05, 1), loc=2, borderaxespad=0.)\n",
    "        plt.savefig(f'./img/synthesizer/{metric}_synthesizer_camera_position_rec20_all.eps', dpi=300)\n",
    "        plt.savefig(f'./img/synthesizer/{metric}_synthesizer_camera_position_rec20_all.png', dpi=300)\n",
    "        plt.show()\n",
    "        plt.clf()\n",
    "    \n",
    "    # based on synthesizer\n",
    "    for scene in scenes:\n",
    "        for metric in ['psnr', 'ssim', 'vmaf']:\n",
    "            filter2 = (df_QP[\"scene\"] == scene)\n",
    "            df_scene = df_QP[filter2]\n",
    "            df_scene.to_csv(f\"./test.csv\", index=False)\n",
    "\n",
    "            ax = sns.barplot(x='synthesizer', y=f'{metric}_mean', hue='camera_position', data = df_scene)\n",
    "            ax.set_title(f'{metric} in {scene}')\n",
    "            ax.set(xlabel=\"\", ylabel=f\"{metric}\")\n",
    "            # plt.xticks(rotation=60)\n",
    "            # plt.legend(bbox_to_anchor=(1.05, 1), loc=2, borderaxespad=0.)\n",
    "            plt.savefig(f'./img/synthesizer/{metric}_synthesizer_camera_position_rec20_{scene}.eps', dpi=300)\n",
    "            plt.savefig(f'./img/synthesizer/{metric}_synthesizer_camera_position_rec20_{scene}.png', dpi=300)\n",
    "            plt.show()\n",
    "            plt.clf()\n",
    "\n",
    "    # based on camera position\n",
    "    for scene in scenes:\n",
    "        for metric in ['psnr', 'ssim', 'vmaf']:\n",
    "            filter2 = (df_QP[\"scene\"] == scene)\n",
    "            df_scene = df_QP[filter2]\n",
    "            df_scene.to_csv(f\"./test.csv\", index=False)\n",
    "\n",
    "            ax = sns.barplot(x='camera_position', y=f'{metric}_mean', hue='synthesizer', data = df_scene)\n",
    "            ax.set_title(f'{metric} in {scene}')\n",
    "            ax.set(xlabel=\"\", ylabel=f\"{metric}\")\n",
    "            # plt.xticks(rotation=60)\n",
    "            # plt.legend(bbox_to_anchor=(1.05, 1), loc=2, borderaxespad=0.)\n",
    "            plt.savefig(f'./img/synthesizer/{metric}_synthesizer_camera_position_rec20_{scene}.eps', dpi=300)\n",
    "            plt.savefig(f'./img/synthesizer/{metric}_synthesizer_camera_position_rec20_{scene}.png', dpi=300)\n",
    "            plt.show()\n",
    "            plt.clf()"
   ]
  },
  {
   "cell_type": "code",
   "execution_count": 172,
   "metadata": {},
   "outputs": [],
   "source": [
    "def arc_and_flat(camera_positions, scenes, QPs, synthesizers, numGroups, pose_traces, numFrame):\n",
    "    \n",
    "    if not os.path.exists(f\"./img\"):\n",
    "        os.system(f\"mkdir ./img\")\n",
    "    if not os.path.exists(f\"./img/arc_and_flat\"):\n",
    "        os.system(f\"mkdir ./img/arc_and_flat\")\n",
    "    \n",
    "\n",
    "    df = pd.DataFrame()\n",
    "    df_tmp = pd.read_csv(f'./results/all.csv')\n",
    "    df = df.append(df_tmp)\n",
    "\n",
    "    # all pose trace use the same reference source\n",
    "    df_scene = df_camera_position = df.loc[(df[\"scene\"] == 'RealisticRendering') & (df[\"QP\"] == 20) & (df['synthesizer'] == 'AdditiveSynthesizer')]\n",
    "    df_camera_position = df_scene.loc[(df_scene[\"camera_position\"] == 'sphere_6x6') | (df_scene[\"camera_position\"] == '6x6')]\n",
    "    df_camera_position.to_csv(f\"./test.csv\", index=False)\n",
    "    \n",
    "    # focus on two camera position\n",
    "    for metric in ['psnr', 'ssim', 'vmaf']:\n",
    "        ax = sns.barplot(x='camera_position', y=f'{metric}_mean', data = df_camera_position)\n",
    "        ax.set_title(f'{metric} in RealisticRendering')\n",
    "        ax.set(xlabel=\"\", ylabel=f\"{metric}\")\n",
    "        plt.legend(bbox_to_anchor=(1.05, 1), loc=2, borderaxespad=0.)\n",
    "        plt.savefig(f'./img/arc_and_flat/{metric}_camera_position_arc_and_flat_in_AdditiveSynthesizer_rec20.eps', dpi=300)\n",
    "        plt.savefig(f'./img/arc_and_flat/{metric}_camera_position_arc_and_flat_in_AdditiveSynthesizer_rec20.png', dpi=300)\n",
    "        plt.show()\n",
    "        plt.clf()\n",
    "    \n",
    "    # focus on each pose trace\n",
    "    for metric in ['psnr', 'ssim', 'vmaf']:\n",
    "        ax = sns.barplot(x='pose_traces', y=f'{metric}_mean', hue='camera_position', data = df_camera_position)\n",
    "        ax.set_title(f'{metric} in RealisticRendering')\n",
    "        ax.set(xlabel=\"\", ylabel=f\"{metric}\")\n",
    "        # plt.legend(bbox_to_anchor=(1.05, 1), loc=2, borderaxespad=0.)\n",
    "        plt.savefig(f'./img/arc_and_flat/{metric}_pose_traces_arc_and_flat_in_AdditiveSynthesizer_rec20.eps', dpi=300)\n",
    "        plt.savefig(f'./img/arc_and_flat/{metric}_pose_traces_arc_and_flat_in_AdditiveSynthesizer_rec20.png', dpi=300)\n",
    "        plt.show()\n",
    "        plt.clf()\n",
    "\n",
    "    # focus on bitrate in two camera position\n",
    "    ax = sns.barplot(x='camera_position', y=f'bitrate', data = df_camera_position)\n",
    "    ax.set_title(f'Bitrate in RealisticRendering')\n",
    "    ax.set(xlabel=\"\", ylabel=f\"Bitrate\")\n",
    "    # plt.legend(bbox_to_anchor=(1.05, 1), loc=2, borderaxespad=0.)\n",
    "    plt.savefig(f'./img/arc_and_flat/bitrate_camera_position_arc_and_flat_in_AdditiveSynthesizer_rec20.eps', dpi=300)\n",
    "    plt.savefig(f'./img/arc_and_flat/bitrate_camera_position_arc_and_flat_in_AdditiveSynthesizer_rec20.png', dpi=300)\n",
    "    plt.show()\n",
    "    plt.clf()\n",
    "\n",
    "    # focus on time in two camera position\n",
    "    df_tmp1 = df_camera_position.loc[(df_camera_position[\"camera_position\"] == \"6x6\")]\n",
    "    df_tmp2 = df_camera_position.loc[(df_camera_position[\"camera_position\"] == \"sphere_6x6\")]\n",
    "    total_time_6x6 = (df_tmp1['TMIV_encoding_time'].sum() + df_tmp1['TMIV_decoding_time'].sum() + df_tmp1['x265_encoding_time'].sum() + df_tmp1['x265_decoding_time'].sum())/10\n",
    "    total_time_sphere_6x6 = (df_tmp2['TMIV_encoding_time'].sum() + df_tmp2['TMIV_decoding_time'].sum() + df_tmp2['x265_encoding_time'].sum() + df_tmp2['x265_decoding_time'].sum())/10\n",
    "    ax = sns.barplot(x=['6x6','6x6_sphere'], y=[total_time_6x6, total_time_sphere_6x6])\n",
    "    ax.set_title(f'Time in RealisticRendering')\n",
    "    ax.set(xlabel=\"\", ylabel=f\"Time(sec)\")\n",
    "    # plt.legend(bbox_to_anchor=(1.05, 1), loc=2, borderaxespad=0.)\n",
    "    plt.savefig(f'./img/arc_and_flat/time_camera_position_arc_and_flat_in_AdditiveSynthesizer_rec20.eps', dpi=300)\n",
    "    plt.savefig(f'./img/arc_and_flat/time_camera_position_arc_and_flat_in_AdditiveSynthesizer_rec20.png', dpi=300)\n",
    "    plt.show()\n",
    "    plt.clf()"
   ]
  },
  {
   "cell_type": "code",
   "execution_count": 173,
   "metadata": {},
   "outputs": [],
   "source": [
    "def time_plot(camera_positions, scenes, QPs, synthesizers, numGroups, pose_traces, numFrame):\n",
    "    if not os.path.exists(f\"./img\"):\n",
    "        os.system(f\"mkdir ./img\")\n",
    "    if not os.path.exists(f\"./img/time_plot\"):\n",
    "        os.system(f\"mkdir ./img/time_plot\")\n",
    "\n",
    "    df = pd.DataFrame()\n",
    "    df_tmp = pd.read_csv(f'./results/all.csv')\n",
    "    df = df.append(df_tmp)\n",
    "\n",
    "    for scene in scenes:\n",
    "        df_tmp = df.loc[(df[\"scene\"] == scene) & (df['synthesizer'] == 'AdditiveSynthesizer')]\n",
    "        df_tmp.to_csv(f\"./test.csv\", index=False)\n",
    "        data_x = []\n",
    "        data_y = []\n",
    "        data_hue = []\n",
    "        for QP in QPs:\n",
    "            df_tmp_QP = df_tmp.loc[(df_tmp[\"QP\"] == QP)]\n",
    "            for camera_position in camera_positions:\n",
    "                df_tmp_cam = df_tmp_QP.loc[(df_tmp_QP[\"camera_position\"] == camera_position)]\n",
    "                total_time = (df_tmp_cam['TMIV_encoding_time'].sum() + df_tmp_cam['TMIV_decoding_time'].sum() + df_tmp_cam['x265_encoding_time'].sum() + df_tmp_cam['x265_decoding_time'].sum())/df_tmp_cam.size\n",
    "                # total_time = (df_tmp_cam['TMIV_encoding_time'].min() + df_tmp_cam['TMIV_decoding_time'].min() + df_tmp_cam['x265_encoding_time'].min() + df_tmp_cam['x265_decoding_time'].min())\n",
    "                \n",
    "                data_x.append(QP)\n",
    "                data_y.append(total_time)\n",
    "                data_hue.append(camera_position)\n",
    "            \n",
    "\n",
    "        ax = sns.barplot(x=data_x, y=data_y, hue=data_hue)\n",
    "        ax.set_title(f'Time in {scene}')\n",
    "        ax.set(xlabel=\"QP\", ylabel=f\"Time(sec)\")\n",
    "        # plt.legend(bbox_to_anchor=(1.05, 1), loc=2, borderaxespad=0.)\n",
    "        plt.savefig(f'./img/time_plot/time_QP_camera_position_in_AdditiveSynthesizer_{scene}.eps', dpi=300)\n",
    "        plt.savefig(f'./img/time_plot/time_QP_camera_position_in_AdditiveSynthesizer_{scene}.png', dpi=300)\n",
    "        plt.show()\n",
    "        plt.clf()\n",
    "\n",
    "        ax_line = sns.lineplot(x=data_x, y=data_y, hue=data_hue, err_style=\"bars\")\n",
    "        ax_line.set_title(f'Time in {scene}')\n",
    "        ax_line.set(xlabel=\"QP\", ylabel=f\"Time(sec)\")\n",
    "        # plt.legend(bbox_to_anchor=(1.05, 1), loc=2, borderaxespad=0.)\n",
    "        plt.savefig(f'./img/time_plot/time_QP_camera_position_in_AdditiveSynthesizer_{scene}_line.eps', dpi=300)\n",
    "        plt.savefig(f'./img/time_plot/time_QP_camera_position_in_AdditiveSynthesizer_{scene}_line.png', dpi=300)\n",
    "        plt.show()\n",
    "        plt.clf()    "
   ]
  },
  {
   "cell_type": "code",
   "execution_count": 174,
   "metadata": {},
   "outputs": [],
   "source": [
    "def synthesizer_plot(camera_positions, scenes, QPs, synthesizers, numGroups, pose_traces, numFrame):\n",
    "    if not os.path.exists(f\"./img\"):\n",
    "        os.system(f\"mkdir ./img\")\n",
    "    if not os.path.exists(f\"./img/synthesizer\"):\n",
    "        os.system(f\"mkdir ./img/synthesizer\")\n",
    "\n",
    "    df = pd.DataFrame()\n",
    "    df_tmp = pd.read_csv(f'./results/all_nG1.csv')\n",
    "    df = df.append(df_tmp)\n",
    "\n",
    "    df['synthesizer'] = df['synthesizer'].replace(['AdditiveSynthesizer','ViewWeightingSynthesizer'],['RVS-based', 'VWS'])\n",
    "\n",
    "    # # Vmaf in 9x4, QP=20 in every scene\n",
    "    # for scene in scenes:\n",
    "    #     print(scene)\n",
    "    #     camera_position = '9x4'\n",
    "    #     df_tmp = df\n",
    "    #     df_tmp = df_tmp.loc[(df[\"scene\"] == scene) & (df[f'camera_position'] == camera_position) & (df[f'QP'] == 20)]\n",
    "    #     ax = sns.barplot(x='pose_traces', y=f'vmaf_mean', hue='synthesizer', data=df_tmp)\n",
    "    #     ax.set(xlabel=\"Pose traces\", ylabel=f\"VMAF\")\n",
    "    #     # plt.xlim((0,100))\n",
    "    #     plt.ylim((0,100)) \n",
    "    #     plt.legend(title=f\"\")\n",
    "    #     plt.show()\n",
    "\n",
    "    # QP = 20\n",
    "    # for scene in scenes:\n",
    "    #     print(scene)\n",
    "        \n",
    "    #     df_tmp = df\n",
    "    #     fliter = (df[\"camera_position\"] != 'sphere_6x6') \n",
    "    #     df_tmp = df_tmp[fliter]\n",
    "    #     df_tmp = df_tmp.loc[(df[\"scene\"] == scene) & (df[f'QP'] == QP)]\n",
    "        \n",
    "    #     # decoding time\n",
    "    #     ax = sns.barplot(x='camera_position', y=f'TMIV_decoding_time', hue='synthesizer', data=df_tmp)\n",
    "    #     ax.set(xlabel=\"Camera placement\", ylabel=f\"TMIV Decoding Time(sec)\")\n",
    "    #     plt.legend(title=\"\", loc='lower left')\n",
    "    #     plt.ylim((0,2900))   \n",
    "    #     plt.savefig(f'./img/synthesizer/TMIV_decoding_time_camera_position_synthesizer_in_rec20_{scene}.eps', dpi=300)\n",
    "    #     plt.savefig(f'./img/synthesizer/TMIV_decoding_time_camera_position_synthesizer_in_rec20_{scene}.png', dpi=300)\n",
    "    #     plt.show()\n",
    "\n",
    "    #     # PSNR\n",
    "    #     ax = sns.barplot(x='camera_position', y=f'psnr_mean', hue='synthesizer', data=df_tmp)\n",
    "    #     ax.set(xlabel=\"Camera placement\", ylabel=f\"PSNR(db)\")\n",
    "    #     plt.legend(title=\"\")\n",
    "    #     plt.ylim((30,60))   \n",
    "    #     plt.savefig(f'./img/synthesizer/psnr_camera_position_synthesizer_in_rec20_{scene}.eps', dpi=300)\n",
    "    #     plt.savefig(f'./img/synthesizer/psnr_camera_position_synthesizer_in_rec20_{scene}.png', dpi=300)\n",
    "    #     plt.show()\n",
    "\n",
    "    #     # SSIM\n",
    "    #     ax = sns.barplot(x='camera_position', y=f'ssim_mean', hue='synthesizer', data=df_tmp)\n",
    "    #     ax.set(xlabel=\"Camera placement\", ylabel=f\"SSIM\")\n",
    "    #     plt.legend(title=\"\")\n",
    "    #     plt.ylim((0,1.0))\n",
    "    #     plt.savefig(f'./img/synthesizer/ssim_camera_position_synthesizer_in_rec20_{scene}.eps', dpi=300)\n",
    "    #     plt.savefig(f'./img/synthesizer/ssim_camera_position_synthesizer_in_rec20_{scene}.png', dpi=300)\n",
    "    #     plt.show()\n",
    "\n",
    "    #     # VMAF\n",
    "    #     ax = sns.barplot(x='camera_position', y=f'vmaf_mean', hue='synthesizer', data=df_tmp)\n",
    "    #     ax.set(xlabel=\"Camera placement\", ylabel=f\"Vmaf\")\n",
    "    #     plt.legend(title=\"\")\n",
    "    #     plt.ylim((0,100))  \n",
    "    #     plt.savefig(f'./img/synthesizer/vmaf_camera_position_synthesizer_in_rec20_{scene}.eps', dpi=300)\n",
    "    #     plt.savefig(f'./img/synthesizer/vmaf_camera_position_synthesizer_in_rec20_{scene}.png', dpi=300)\n",
    "    #     plt.show()\n",
    "\n",
    "    # # PSNR SSIM VMAF in all scenes\n",
    "    # QP = 20\n",
    "    # print('All')\n",
    "    \n",
    "    # df_tmp = df\n",
    "    # fliter = (df[\"camera_position\"] != 'sphere_6x6') \n",
    "    # df_tmp = df_tmp[fliter]\n",
    "    # df_tmp = df_tmp.loc[(df[f'QP'] == QP)]\n",
    "\n",
    "    # # decoding time\n",
    "    # ax = sns.barplot(x='camera_position', y=f'TMIV_decoding_time', hue='synthesizer', data=df_tmp)\n",
    "    # ax.set(xlabel=\"Camera placement\", ylabel=f\"TMIV Decoding Time(sec)\")\n",
    "    # plt.legend(title=\"\", loc='lower left')\n",
    "    # plt.ylim((0,2900))   \n",
    "    # plt.savefig(f'./img/synthesizer/TMIV_decoding_time_camera_position_synthesizer_in_rec20_all.eps', dpi=300)\n",
    "    # plt.savefig(f'./img/synthesizer/TMIV_decoding_time_camera_position_synthesizer_in_rec20_all.png', dpi=300)\n",
    "    # plt.show()\n",
    "    \n",
    "    # # PSNR\n",
    "    # ax = sns.barplot(x='camera_position', y=f'psnr_mean', hue='synthesizer', data=df_tmp)\n",
    "    # ax.set(xlabel=\"Camera placement\", ylabel=f\"PSNR(db)\")\n",
    "    # plt.legend(title=\"\")\n",
    "    # plt.ylim((30,55))   \n",
    "    # plt.savefig(f'./img/synthesizer/psnr_camera_position_synthesizer_in_rec20_all.eps', dpi=300)\n",
    "    # plt.savefig(f'./img/synthesizer/psnr_camera_position_synthesizer_in_rec20_all.png', dpi=300)\n",
    "    # plt.show()\n",
    "\n",
    "    # # SSIM\n",
    "    # ax = sns.barplot(x='camera_position', y=f'ssim_mean', hue='synthesizer', data=df_tmp)\n",
    "    # ax.set(xlabel=\"Camera placement\", ylabel=f\"SSIM\")\n",
    "    # plt.legend(title=\"\")\n",
    "    # plt.ylim((0,1.0))\n",
    "    # plt.savefig(f'./img/synthesizer/ssim_camera_position_synthesizer_in_rec20_all.eps', dpi=300)\n",
    "    # plt.savefig(f'./img/synthesizer/ssim_camera_position_synthesizer_in_rec20_all.png', dpi=300)\n",
    "    # plt.show()\n",
    "\n",
    "    # # VMAF\n",
    "    # ax = sns.barplot(x='camera_position', y=f'vmaf_mean', hue='synthesizer', data=df_tmp)\n",
    "    # ax.set(xlabel=\"Camera placement\", ylabel=f\"VMAF\")\n",
    "    # plt.legend(title=\"\")\n",
    "    # plt.ylim((0,100))  \n",
    "    # plt.savefig(f'./img/synthesizer/vmaf_camera_position_synthesizer_in_rec20_all.eps', dpi=300)\n",
    "    # plt.savefig(f'./img/synthesizer/vmaf_camera_position_synthesizer_in_rec20_all.png', dpi=300)\n",
    "    # plt.show()\n",
    " \n",
    "\n",
    "    # # Vmaf propotion plot\n",
    "    # df_tmp = df.loc[(df[f'synthesizer'] == 'VWS') & (df[f'QP'] == 20)]\n",
    "    # df_tmp = df_tmp.sort_values(by=['vmaf_mean'])\n",
    "    # VWS_vmaf_sort_data = df_tmp['vmaf_mean'].to_list()\n",
    "    # VWS_y = 1. * np.arange(len(VWS_vmaf_sort_data)) / (len(VWS_vmaf_sort_data) - 1)\n",
    "\n",
    "    # df_tmp = df.loc[(df[f'synthesizer'] == 'RVS-based') & (df[f'QP'] == 20)]\n",
    "    # df_tmp = df_tmp.sort_values(by=['vmaf_mean'])\n",
    "    # RVS_vmaf_sort_data = df_tmp['vmaf_mean'].to_list()\n",
    "    # RVS_y = 1. * np.arange(len(RVS_vmaf_sort_data)) / (len(RVS_vmaf_sort_data) - 1)\n",
    "\n",
    "    # ax = sns.lineplot(x=RVS_vmaf_sort_data, y=RVS_y)\n",
    "    # ax = sns.lineplot(x=VWS_vmaf_sort_data, y=VWS_y)\n",
    "    # ax.lines[1].set_linestyle(\"--\")\n",
    "    # ax.set(xlabel=\"VMAF\", ylabel=f\"Propotion\")\n",
    "    # plt.legend(['RVS-based', 'VWS'], title=\"\")\n",
    "    # plt.ylim((0,1))  \n",
    "    # plt.savefig(f'./img/synthesizer/propotion_vmaf_synthesizer_in_rec20_all.eps', dpi=300)\n",
    "    # plt.savefig(f'./img/synthesizer/propotion_vmaf_synthesizer_in_rec20_all.png', dpi=300)\n",
    "    # plt.show()"
   ]
  },
  {
   "cell_type": "code",
   "execution_count": 175,
   "metadata": {},
   "outputs": [],
   "source": [
    "def numGroups_plot(camera_positions, scenes, QPs, synthesizers, numGroups, pose_traces, numFrame):\n",
    "    if not os.path.exists(f\"./img\"):\n",
    "        os.system(f\"mkdir ./img\")\n",
    "    if not os.path.exists(f\"./img/numGroup\"):\n",
    "        os.system(f\"mkdir ./img/numGroup\")\n",
    "\n",
    "    df = pd.DataFrame()\n",
    "    for numGroup in numGroups:\n",
    "        df_tmp = pd.read_csv(f'./results/all_nG{numGroup}.csv')\n",
    "        df = df.append(df_tmp)\n",
    "\n",
    "\n",
    "    scene = 'ArchVizInterior'\n",
    "    df_tmp = df.loc[(df[\"scene\"] == scene)]\n",
    "    ax = sns.barplot(x='camera_position', y=f'TMIV_decoding_time', hue='numGroup', data=df_tmp)\n",
    "    ax.set_title(f'TMIV decoding time in {scene}')\n",
    "    ax.set(xlabel=\"Camera placement\", ylabel=f\"sec\")\n",
    "    # plt.legend(bbox_to_anchor=(1.05, 1), loc=2, borderaxespad=0.)\n",
    "    # plt.savefig(f'./img/synthesizer/{metric}_camera_position_synthesizer_in_rec20_{scene}.eps', dpi=300)\n",
    "    # plt.savefig(f'./img/synthesizer/{metric}_camera_position_synthesizer_in_rec20_{scene}.png', dpi=300)\n",
    "    plt.show()\n",
    "\n",
    "    scene = 'ArchVizInterior'\n",
    "    df_tmp = df.loc[(df[\"scene\"] == scene)]\n",
    "    ax = sns.barplot(x='camera_position', y=f'TMIV_encoding_time', hue='numGroup', data=df_tmp)\n",
    "    ax.set_title(f'TMIV encoding time in {scene}')\n",
    "    ax.set(xlabel=\"Camera placement\", ylabel=f\"sec\")\n",
    "    # plt.legend(bbox_to_anchor=(1.05, 1), loc=2, borderaxespad=0.)\n",
    "    # plt.savefig(f'./img/synthesizer/{metric}_camera_position_synthesizer_in_rec20_{scene}.eps', dpi=300)\n",
    "    # plt.savefig(f'./img/synthesizer/{metric}_camera_position_synthesizer_in_rec20_{scene}.png', dpi=300)\n",
    "    plt.show()\n",
    "\n",
    "    print(df)"
   ]
  },
  {
   "cell_type": "code",
   "execution_count": 176,
   "metadata": {},
   "outputs": [],
   "source": [
    "def siti_plot(camera_positions, scenes, QPs, synthesizers, numGroups, pose_traces, numFrame):\n",
    "    if not os.path.exists(f\"./img\"):\n",
    "        os.system(f\"mkdir ./img\")\n",
    "    if not os.path.exists(f\"./img/siti\"):\n",
    "        os.system(f\"mkdir ./img/siti\")\n",
    "\n",
    "    df = pd.DataFrame()\n",
    "    df_tmp = pd.read_csv(f'./results/scene_siti.csv')\n",
    "    df = df.append(df_tmp)\n",
    "    \n",
    "    data = []\n",
    "    for scene in scenes:\n",
    "        df_tmp = df.loc[(df[\"scene\"] == scene)]\n",
    "        si = df_tmp['si'].sum()/10\n",
    "        ti = df_tmp['ti'].sum()/10\n",
    "        data.append([scene, si, ti])\n",
    "    df_average = pd.DataFrame(data, columns=[\"scene\", \"si\", \"ti\"])\n",
    "    print(df_average)\n",
    "    ax = sns.scatterplot(x='si', y=f'ti', hue='scene', data=df_average, style='scene', s=70)\n",
    "    ax.set(xlabel=\"Spatial Information\", ylabel=f\"Temporal Information\")\n",
    "    plt.legend(title=\"\")\n",
    "    # plt.xlim((0,100))\n",
    "    # plt.ylim((0,50))\n",
    "    plt.savefig(f'./img/siti/siti_average.eps', dpi=300)\n",
    "    plt.savefig(f'./img/siti/siti_average.png', dpi=300)\n",
    "    plt.show()\n",
    "\n",
    "    df_all = df\n",
    "    ax = sns.scatterplot(x='si', y=f'ti', hue='scene', data=df_all, style='scene', s=70)\n",
    "    ax.set(xlabel=\"Spatial Information\", ylabel=f\"Temporal Information\")\n",
    "    plt.legend(title=\"\")\n",
    "    # plt.xlim((0,100))\n",
    "    # plt.ylim((0,50))\n",
    "    plt.savefig(f'./img/siti/siti.eps', dpi=300)\n",
    "    plt.savefig(f'./img/siti/siti.png', dpi=300)\n",
    "    plt.show()"
   ]
  },
  {
   "cell_type": "code",
   "execution_count": 177,
   "metadata": {},
   "outputs": [],
   "source": [
    "def quality_and_bitrate_plot(camera_positions, scenes, QPs, synthesizers, numGroups, pose_traces, numFrame):\n",
    "    if not os.path.exists(f\"./img\"):\n",
    "        os.system(f\"mkdir ./img\")\n",
    "    if not os.path.exists(f\"./img/QP\"):\n",
    "        os.system(f\"mkdir ./img/QP\")\n",
    "    \n",
    "    df = pd.DataFrame()\n",
    "    df_tmp = pd.read_csv(f'./results/all_nG1.csv')\n",
    "    df = df.append(df_tmp)\n",
    "\n",
    "\n",
    "    # ALL\n",
    "    print('all')\n",
    "    df_tmp = df\n",
    "    df_tmp = df_tmp.loc[(df_tmp[f'synthesizer'] == 'AdditiveSynthesizer') & (df_tmp[\"camera_position\"] != 'sphere_6x6')]\n",
    "    \n",
    "    # PSNR\n",
    "    ax = sns.barplot(x='camera_position', y=f'psnr_mean', hue='QP', data=df_tmp)\n",
    "    ax.set(xlabel=\"Camera placement\", ylabel=f\"PSNR(db)\")\n",
    "    plt.legend(title=\"\")\n",
    "    plt.ylim((30,50))   \n",
    "    plt.savefig(f'./img/QP/psnr_camera_position_QP_in_AdditiveSynthesizer_all.eps', dpi=300)\n",
    "    plt.savefig(f'./img/QP/psnr_camera_position_QP_in_AdditiveSynthesizer_all.png', dpi=300)\n",
    "    plt.show()\n",
    "\n",
    "    # SSIM\n",
    "    ax = sns.barplot(x='camera_position', y=f'ssim_mean', hue='QP', data=df_tmp)\n",
    "    ax.set(xlabel=\"Camera placement\", ylabel=f\"SSIM\")\n",
    "    plt.legend(title=\"\")\n",
    "    plt.ylim((0,1.0))   \n",
    "    plt.savefig(f'./img/QP/ssim_camera_position_QP_in_AdditiveSynthesizer_all.eps', dpi=300)\n",
    "    plt.savefig(f'./img/QP/ssim_camera_position_QP_in_AdditiveSynthesizer_all.png', dpi=300)\n",
    "    plt.show()\n",
    "\n",
    "    # VMAF\n",
    "    ax = sns.barplot(x='camera_position', y=f'vmaf_mean', hue='QP', data=df_tmp)\n",
    "    ax.set(xlabel=\"Camera placement\", ylabel=f\"VMAF\")\n",
    "    plt.legend(title=\"\")\n",
    "    plt.ylim((0,100))\n",
    "    plt.savefig(f'./img/QP/vmaf_camera_position_QP_in_AdditiveSynthesizer_all.eps', dpi=300)\n",
    "    plt.savefig(f'./img/QP/vmaf_camera_position_QP_in_AdditiveSynthesizer_all.png', dpi=300)\n",
    "    plt.show()\n",
    "\n",
    "    # X265 encoding time\n",
    "    ax = sns.barplot(x='camera_position', y=f'x265_encoding_time', hue = \"QP\", data=df_tmp)    \n",
    "    ax.set(xlabel=\"Camera placement\", ylabel=f\"x265 Encoding Time (sec)\")\n",
    "    plt.legend(title=\"\")\n",
    "    plt.ylim((0,5))\n",
    "    plt.savefig(f'./img/QP/x265_encoding_time_camera_position_QP_in_AdditiveSynthesizer_all.eps', dpi=300)\n",
    "    plt.savefig(f'./img/QP/x265_encoding_time_camera_position_QP_in_AdditiveSynthesizer_all.png', dpi=300)\n",
    "    plt.show()\n",
    "\n",
    "    # X265 decoding time\n",
    "    ax = sns.barplot(x='camera_position', y=f'x265_decoding_time', hue = \"QP\", data=df_tmp)\n",
    "    ax.set(xlabel=\"Camera placement\", ylabel=f\"x265 Decoding Time (sec)\")\n",
    "    plt.legend(title=\"\")\n",
    "    plt.ylim((0,5))\n",
    "    plt.savefig(f'./img/QP/x265_decoding_time_camera_position_QP_in_AdditiveSynthesizer_all.eps', dpi=300)\n",
    "    plt.savefig(f'./img/QP/x265_decoding_time_camera_position_QP_in_AdditiveSynthesizer_all.png', dpi=300)\n",
    "    plt.show()\n",
    "\n",
    "    # TMIV encoding time\n",
    "    ax = sns.barplot(x='camera_position', y=f'TMIV_encoding_time', hue = \"QP\", data=df_tmp)\n",
    "    ax.set(xlabel=\"Camera placement\", ylabel=f\"TMIV Encoding Time (sec)\")\n",
    "    plt.legend(title=\"\")\n",
    "    # plt.ylim((0,5))\n",
    "    plt.savefig(f'./img/QP/TMIV_encoding_time_camera_position_QP_in_AdditiveSynthesizer_all.eps', dpi=300)\n",
    "    plt.savefig(f'./img/QP/TMIV_encoding_time_camera_position_QP_in_AdditiveSynthesizer_all.png', dpi=300)\n",
    "    plt.show()\n",
    "\n",
    "    # TMIV decoding time\n",
    "    ax = sns.barplot(x='camera_position', y=f'TMIV_decoding_time', hue = \"QP\", data=df_tmp)\n",
    "    ax.set(xlabel=\"Camera placement\", ylabel=f\"TMIV Decoding Time (sec)\")\n",
    "    plt.legend(title=\"\")\n",
    "    # plt.ylim((1200,1300))\n",
    "    plt.savefig(f'./img/QP/TMIV_decoding_time_camera_position_QP_in_AdditiveSynthesizer_all.eps', dpi=300)\n",
    "    plt.savefig(f'./img/QP/TMIV_decoding_time_camera_position_QP_in_AdditiveSynthesizer_all.png', dpi=300)\n",
    "    plt.show()\n",
    "\n",
    "    # # bitrate 1\n",
    "    # ax = sns.barplot(x='camera_position', y=f'bitrate', hue = \"QP\", data=df_tmp)\n",
    "    # ax.set(xlabel=\"Camera position\", ylabel=f\"Bitrate (bits)\")\n",
    "    # plt.legend(title=\"\")\n",
    "    # # plt.ylim((0,5))\n",
    "    # plt.savefig(f'./img/QP/bitrate_camera_position_QP_in_AdditiveSynthesizer_all.eps', dpi=300)\n",
    "    # plt.savefig(f'./img/QP/bitrate_camera_position_QP_in_AdditiveSynthesizer_all.png', dpi=300)\n",
    "    # plt.show()\n",
    "\n",
    "    # # bitrate 2\n",
    "    # ax = sns.barplot(x='QP', y=f'bitrate', hue = \"camera_position\", data=df_tmp)\n",
    "    # ax.set(xlabel=\"QP\", ylabel=f\"Bitrate (bits)\")\n",
    "    # plt.legend(title=\"\")\n",
    "    # # plt.ylim((0,5))\n",
    "    # plt.savefig(f'./img/QP/bitrate_QP_camera_position_in_AdditiveSynthesizer_all.eps', dpi=300)\n",
    "    # plt.savefig(f'./img/QP/bitrate_QP_camera_position_in_AdditiveSynthesizer_all.png', dpi=300)\n",
    "    # plt.show()\n",
    "\n",
    "    \n",
    "    # for scene in scenes:\n",
    "    #     print(f'{scene}')\n",
    "    #     # pose_trace = 'pose0'\n",
    "    #     df_tmp_scene = df_tmp.loc[(df[f'scene'] == scene)]\n",
    "    #     df_tmp_scene['bitrate'] = 10*np.log10(df_tmp_scene['bitrate'])\n",
    "        \n",
    "    #     # VMAF - bitrate\n",
    "    #     ax = sns.lineplot(x='bitrate', y=f'vmaf_mean', hue = \"camera_position\", data=df_tmp_scene, ci=None)\n",
    "    #     ax.set(xlabel=\"10*log10(Bitrate)\", ylabel=f\"VMAF\")\n",
    "    #     plt.legend(title=\"\")\n",
    "    #     # plt.ylim((0,5))\n",
    "    #     plt.savefig(f'./img/QP/vmaf_bitrate_camera_position_in_AdditiveSynthesizer_{scene}.eps', dpi=300)\n",
    "    #     plt.savefig(f'./img/QP/vmaf_bitrate_camera_position_in_AdditiveSynthesizer_{scene}.png', dpi=300)\n",
    "    #     plt.show()\n",
    "    \n",
    "    #     # PSNR - bitrate\n",
    "    #     ax = sns.lineplot(x='bitrate', y=f'psnr_mean', hue = \"camera_position\", data=df_tmp_scene, ci=None)\n",
    "    #     ax.set(xlabel=\"10*log10(Bitrate)\", ylabel=f\"PSNR\")\n",
    "    #     plt.legend(title=\"\")\n",
    "    #     # plt.ylim((0,5))\n",
    "    #     plt.savefig(f'./img/QP/psnr_bitrate_camera_position_in_AdditiveSynthesizer_{scene}.eps', dpi=300)\n",
    "    #     plt.savefig(f'./img/QP/psnr_bitrate_camera_position_in_AdditiveSynthesizer_{scene}.png', dpi=300)\n",
    "    #     plt.show()\n",
    "\n",
    "    #     # SSIM - bitrate\n",
    "    #     ax = sns.lineplot(x='bitrate', y=f'ssim_mean', hue = \"camera_position\", data=df_tmp_scene, ci=None)\n",
    "    #     ax.set(xlabel=\"10*log10(Bitrate)\", ylabel=f\"SSIM\")\n",
    "    #     plt.legend(title=\"\")\n",
    "    #     # plt.ylim((0,5))\n",
    "    #     plt.savefig(f'./img/QP/ssim_bitrate_camera_position_in_AdditiveSynthesizer_{scene}.eps', dpi=300)\n",
    "    #     plt.savefig(f'./img/QP/ssim_bitrate_camera_position_in_AdditiveSynthesizer_{scene}.png', dpi=300)\n",
    "    #     plt.show()\n",
    "\n",
    "    \n",
    "\n",
    "\n",
    "    # for scene in scenes:\n",
    "    #     print(scene)\n",
    "    #     # bitrate - decoding time\n",
    "    #     df_tmp = df\n",
    "    #     df_tmp = df_tmp.loc[(df[f'synthesizer'] == 'AdditiveSynthesizer') & (df[\"camera_position\"] != 'sphere_6x6')]\n",
    "    #     df_tmp = df_tmp.loc[(df[f'scene'] == scene)]\n",
    "    #     # df_tmp = df_tmp.sort_values(by=['TMIV_decoding_time'])\n",
    "\n",
    "    #     ax = sns.barplot(x='QP', y=f'x265_decoding_time', hue = \"camera_position\", data=df_tmp)\n",
    "        \n",
    "    #     ax.set(xlabel=\"QP\", ylabel=f\"x265 Decoding Time (sec)\")\n",
    "    #     plt.legend(title=\"\")\n",
    "    #     plt.ylim((0,3.6))\n",
    "    #     plt.savefig(f'./img/QP/x265_decoding_time_QP_camera_position_in_AdditiveSynthesizer_{scene}.eps', dpi=300)\n",
    "    #     plt.savefig(f'./img/QP/x265_decoding_time_QP_camera_position_in_AdditiveSynthesizer_{scene}.png', dpi=300)\n",
    "    #     plt.show()\n",
    "\n",
    "\n",
    "\n",
    "\n",
    "\n",
    "    # # ['ArchVizInterior', 'LightroomInteriorDayLight', 'office', 'RealisticRendering', 'XoioBerlinFlat']\n",
    "    # for scene in scenes:\n",
    "    #     print(scene)\n",
    "    #     df_tmp = df\n",
    "    #     df_tmp = df_tmp.loc[(df[f'synthesizer'] == 'AdditiveSynthesizer') & (df[\"camera_position\"] != 'sphere_6x6') & (df[\"scene\"] != scene)]\n",
    "    #     # PSNR\n",
    "    #     ax = sns.barplot(x='QP', y=f'psnr_mean', hue='camera_position', data=df_tmp)\n",
    "    #     ax.set(xlabel=\"Camera placement\", ylabel=f\"PSNR(db)\")\n",
    "    #     plt.legend(title=\"\")\n",
    "    #     plt.ylim((40,60))   \n",
    "    #     # plt.savefig(f'./img/synthesizer/psnr_camera_position_synthesizer_in_rec20_{scene}.eps', dpi=300)\n",
    "    #     # plt.savefig(f'./img/synthesizer/psnr_camera_position_synthesizer_in_rec20_{scene}.png', dpi=300)\n",
    "    #     plt.show()\n",
    "\n",
    "    #     # SSIM\n",
    "    #     ax = sns.barplot(x='QP', y=f'ssim_mean', hue='camera_position', data=df_tmp)\n",
    "    #     ax.set(xlabel=\"QP\", ylabel=f\"SSIM\")\n",
    "    #     plt.legend(title=\"\")\n",
    "    #     plt.ylim((0,1.0))   \n",
    "    #     # plt.savefig(f'./img/synthesizer/psnr_camera_position_synthesizer_in_rec20_{scene}.eps', dpi=300)\n",
    "    #     # plt.savefig(f'./img/synthesizer/psnr_camera_position_synthesizer_in_rec20_{scene}.png', dpi=300)\n",
    "    #     plt.show()\n",
    "\n",
    "    #     ax = sns.barplot(x='QP', y=f'vmaf_mean', hue='camera_position', data=df_tmp)\n",
    "    #     ax.set(xlabel=\"QP\", ylabel=f\"VMAF\")\n",
    "    #     plt.legend(title=\"\")\n",
    "    #     plt.ylim((0,100))   \n",
    "    #     # plt.savefig(f'./img/synthesizer/psnr_camera_position_synthesizer_in_rec20_{scene}.eps', dpi=300)\n",
    "    #     # plt.savefig(f'./img/synthesizer/psnr_camera_position_synthesizer_in_rec20_{scene}.png', dpi=300)\n",
    "    #     plt.show()\n",
    "\n",
    "    # df_tmp = df\n",
    "    # fliter = (df[\"camera_position\"] != 'sphere_6x6') \n",
    "    # df_tmp = df_tmp[fliter]\n",
    "    # fliter1 = (df[\"pose_traces\"] == 'pose0') \n",
    "    # df_tmp = df_tmp[fliter1]\n",
    "    # filter2 = (df[\"synthesizer\"] == 'AdditiveSynthesizer')\n",
    "    # df_tmp = df_tmp[filter2]\n",
    "    # filter3 = (df[\"scene\"] == scene)\n",
    "    # df_tmp = df_tmp[filter3]\n",
    "\n",
    "    # ax = sns.lineplot(x='bitrate', y='psnr_mean', hue='camera_position', data = df_tmp)\n",
    "    # ax.set(xlabel=\"bitrate(bit)\", ylabel=\"PSNR(db)\")\n",
    "    # plt.legend(title=\"\")\n",
    "    # plt.savefig(f'./img/bitrate/psnr_bitrate_camera_position_in_{scene}_pose0.eps', dpi=300)\n",
    "    # plt.savefig(f'./img/bitrate/psnr_bitrate_camera_position_in_{scene}_pose0.png', dpi=300)\n",
    "    # plt.xlim((0.0,1.75*1e7))\n",
    "    # plt.ylim((40,50))\n",
    "    # plt.show()\n",
    "\n",
    "    # ax = sns.lineplot(x='bitrate', y='ssim_mean', hue='camera_position', data = df_tmp)\n",
    "    # ax.set(xlabel=\"bitrate(bit)\", ylabel=\"SSIM\")\n",
    "    # plt.legend(title=\"\")\n",
    "    # plt.savefig(f'./img/bitrate/ssim_bitrate_camera_position_in_{scene}_pose0.eps', dpi=300)\n",
    "    # plt.savefig(f'./img/bitrate/ssim_bitrate_camera_position_in_{scene}_pose0.png', dpi=300)\n",
    "    # plt.xlim((0.0,1.75*1e7))\n",
    "    # plt.ylim((0.85,1.0))\n",
    "    # plt.show()\n",
    "\n",
    "    # ax = sns.lineplot(x='bitrate', y='vmaf_mean', hue='camera_position', data = df_tmp)\n",
    "    # ax.set(xlabel=\"bitrate\", ylabel=\"Vmaf\")\n",
    "    # plt.legend(title=\"\", labels=['RVS-based', 'VWS'])\n",
    "    # plt.savefig(f'./img/bitrate/vmaf_bitrate_camera_position_in_{scene}_pose0.eps', dpi=300)\n",
    "    # plt.savefig(f'./img/bitrate/vmaf_bitrate_camera_position_in_{scene}_pose0.png', dpi=300)\n",
    "    # plt.xlim((0.0,1.75*1e7))\n",
    "    # plt.ylim((20,60))\n",
    "    # plt.show()\n",
    "\n",
    "    for scene in scenes:\n",
    "        print(scene)\n",
    "        df_tmp_scene = df_tmp.loc[(df_tmp['scene'] == scene) & (df_tmp['camera_position'] == '6x6')]\n",
    "        \n",
    "        # X265 encoding time\n",
    "        ax = sns.barplot(x='pose_traces', y=f'TMIV_decoding_time', hue = \"QP\", data=df_tmp_scene)    \n",
    "        ax.set(xlabel=\"QP\", ylabel=f\"x265 Encoding Time (sec)\")\n",
    "        plt.legend(title=\"\")\n",
    "        # plt.ylim((0,6))\n",
    "        # plt.savefig(f'./img/QP/x265_encoding_time_QP_camera_position_in_AdditiveSynthesizer_all.eps', dpi=300)\n",
    "        # plt.savefig(f'./img/QP/x265_encoding_time_QP_camera_position_in_AdditiveSynthesizer_all.png', dpi=300)\n",
    "        plt.show()\n",
    "\n",
    "\n",
    "        # # X265 decoding time\n",
    "        # ax = sns.barplot(x='QP', y=f'x265_decoding_time', hue = \"pose_traces\", data=df_tmp_scene)\n",
    "        # ax.set(xlabel=\"QP\", ylabel=f\"x265 Decoding Time (sec)\")\n",
    "        # plt.legend(title=\"\")\n",
    "        # plt.ylim((0,6))\n",
    "        # # plt.savefig(f'./img/QP/x265_decoding_time_QP_camera_position_in_AdditiveSynthesizer_all.eps', dpi=300)\n",
    "        # # plt.savefig(f'./img/QP/x265_decoding_time_QP_camera_position_in_AdditiveSynthesizer_all.png', dpi=300)\n",
    "        # plt.show()\n",
    "\n",
    "\n",
    "\n"
   ]
  },
  {
   "cell_type": "code",
   "execution_count": 178,
   "metadata": {},
   "outputs": [],
   "source": [
    "def main():\n",
    "    # setup paras\n",
    "    # camera_positions = np.array([\"6x6\", \"9x4\", \"12x3\", \"18x2\"])\n",
    "    # scenes = np.array(['ArchVizInterior', 'LightroomInteriorDayLight', 'office', 'RealisticRendering', 'XoioBerlinFlat'])\n",
    "    # QPs = np.array([20, 36, 44, 48, 50])\n",
    "    # synthesizers = np.array([\"AdditiveSynthesizer\", \"ViewWeightingSynthesizer\"])\n",
    "    # numGroups = np.array([1])\n",
    "    # pose_traces = np.array([f'pose{i}' for i in range(10)])\n",
    "    # numFrame = 1\n",
    "\n",
    "    # 1\n",
    "    camera_positions = np.array([\"6x6\", \"9x4\", \"12x3\", \"18x2\"])\n",
    "    scenes = np.array(['ArchVizInterior', 'LightroomInteriorDayLight', 'office', 'RealisticRendering', 'XoioBerlinFlat'])\n",
    "    QPs = np.array([20, 36, 44, 48, 50])\n",
    "    synthesizers = np.array([\"AdditiveSynthesizer\", \"ViewWeightingSynthesizer\"])\n",
    "    numGroups = np.array([1, 4])\n",
    "    pose_traces = np.array([f'pose{i}' for i in range(10)])\n",
    "    numFrame = 1\n",
    "\n",
    "    # synthesizer_plot(camera_positions, scenes, QPs, synthesizers, numGroups, pose_traces, numFrame)\n",
    "    # siti_plot(camera_positions, scenes, QPs, synthesizers, numGroups, pose_traces, numFrame)\n",
    "    quality_and_bitrate_plot(camera_positions, scenes, QPs, synthesizers, numGroups, pose_traces, numFrame)\n",
    "    "
   ]
  },
  {
   "cell_type": "code",
   "execution_count": 179,
   "metadata": {},
   "outputs": [
    {
     "name": "stdout",
     "output_type": "stream",
     "text": [
      "all\n"
     ]
    },
    {
     "name": "stderr",
     "output_type": "stream",
     "text": [
      "The PostScript backend does not support transparency; partially transparent artists will be rendered opaque.\n",
      "The PostScript backend does not support transparency; partially transparent artists will be rendered opaque.\n"
     ]
    },
    {
     "data": {
      "image/png": "[encoded data removed]",
      "text/plain": [
       "<Figure size 432x288 with 1 Axes>"
      ]
     },
     "metadata": {
      "needs_background": "light"
     },
     "output_type": "display_data"
    },
    {
     "name": "stderr",
     "output_type": "stream",
     "text": [
      "The PostScript backend does not support transparency; partially transparent artists will be rendered opaque.\n",
      "The PostScript backend does not support transparency; partially transparent artists will be rendered opaque.\n"
     ]
    },
    {
     "data": {
      "image/png": "[encoded data removed]",
      "text/plain": [
       "<Figure size 432x288 with 1 Axes>"
      ]
     },
     "metadata": {
      "needs_background": "light"
     },
     "output_type": "display_data"
    },
    {
     "name": "stderr",
     "output_type": "stream",
     "text": [
      "The PostScript backend does not support transparency; partially transparent artists will be rendered opaque.\n",
      "The PostScript backend does not support transparency; partially transparent artists will be rendered opaque.\n"
     ]
    },
    {
     "data": {
      "image/png": "[encoded data removed]",
      "text/plain": [
       "<Figure size 432x288 with 1 Axes>"
      ]
     },
     "metadata": {
      "needs_background": "light"
     },
     "output_type": "display_data"
    },
    {
     "name": "stderr",
     "output_type": "stream",
     "text": [
      "The PostScript backend does not support transparency; partially transparent artists will be rendered opaque.\n",
      "The PostScript backend does not support transparency; partially transparent artists will be rendered opaque.\n"
     ]
    },
    {
     "data": {
      "image/png": "[encoded data removed]",
      "text/plain": [
       "<Figure size 432x288 with 1 Axes>"
      ]
     },
     "metadata": {
      "needs_background": "light"
     },
     "output_type": "display_data"
    },
    {
     "name": "stderr",
     "output_type": "stream",
     "text": [
      "The PostScript backend does not support transparency; partially transparent artists will be rendered opaque.\n",
      "The PostScript backend does not support transparency; partially transparent artists will be rendered opaque.\n"
     ]
    },
    {
     "data": {
      "image/png": "[encoded data removed]",
      "text/plain": [
       "<Figure size 432x288 with 1 Axes>"
      ]
     },
     "metadata": {
      "needs_background": "light"
     },
     "output_type": "display_data"
    },
    {
     "name": "stderr",
     "output_type": "stream",
     "text": [
      "The PostScript backend does not support transparency; partially transparent artists will be rendered opaque.\n",
      "The PostScript backend does not support transparency; partially transparent artists will be rendered opaque.\n"
     ]
    },
    {
     "data": {
      "image/png": "[encoded data removed]",
      "text/plain": [
       "<Figure size 432x288 with 1 Axes>"
      ]
     },
     "metadata": {
      "needs_background": "light"
     },
     "output_type": "display_data"
    },
    {
     "name": "stderr",
     "output_type": "stream",
     "text": [
      "The PostScript backend does not support transparency; partially transparent artists will be rendered opaque.\n",
      "The PostScript backend does not support transparency; partially transparent artists will be rendered opaque.\n"
     ]
    },
    {
     "data": {
      "image/png": "[encoded data removed]",
      "text/plain": [
       "<Figure size 432x288 with 1 Axes>"
      ]
     },
     "metadata": {
      "needs_background": "light"
     },
     "output_type": "display_data"
    },
    {
     "name": "stdout",
     "output_type": "stream",
     "text": [
      "ArchVizInterior\n"
     ]
    },
    {
     "data": {
      "image/png": "[encoded data removed]",
      "text/plain": [
       "<Figure size 432x288 with 1 Axes>"
      ]
     },
     "metadata": {
      "needs_background": "light"
     },
     "output_type": "display_data"
    },
    {
     "name": "stdout",
     "output_type": "stream",
     "text": [
      "LightroomInteriorDayLight\n"
     ]
    },
    {
     "data": {
      "image/png": "[encoded data removed]",
      "text/plain": [
       "<Figure size 432x288 with 1 Axes>"
      ]
     },
     "metadata": {
      "needs_background": "light"
     },
     "output_type": "display_data"
    },
    {
     "name": "stdout",
     "output_type": "stream",
     "text": [
      "office\n"
     ]
    },
    {
     "data": {
      "image/png": "[encoded data removed]",
      "text/plain": [
       "<Figure size 432x288 with 1 Axes>"
      ]
     },
     "metadata": {
      "needs_background": "light"
     },
     "output_type": "display_data"
    },
    {
     "name": "stdout",
     "output_type": "stream",
     "text": [
      "RealisticRendering\n"
     ]
    },
    {
     "data": {
      "image/png": "[encoded data removed]",
      "text/plain": [
       "<Figure size 432x288 with 1 Axes>"
      ]
     },
     "metadata": {
      "needs_background": "light"
     },
     "output_type": "display_data"
    },
    {
     "name": "stdout",
     "output_type": "stream",
     "text": [
      "XoioBerlinFlat\n"
     ]
    },
    {
     "data": {
      "image/png": "[encoded data removed]",
      "text/plain": [
       "<Figure size 432x288 with 1 Axes>"
      ]
     },
     "metadata": {
      "needs_background": "light"
     },
     "output_type": "display_data"
    }
   ],
   "source": [
    "if __name__ == '__main__':\n",
    "    main()"
   ]
  }
 ],
 "metadata": {
  "interpreter": {
   "hash": "04c984367b982b0aaf705f585c2564bb5d351f1cbef96d3ff2770a55c28795e5"
  },
  "kernelspec": {
   "display_name": "Python 3.8.8 64-bit ('base': conda)",
   "name": "python3"
  },
  "language_info": {
   "codemirror_mode": {
    "name": "ipython",
    "version": 3
   },
   "file_extension": ".py",
   "mimetype": "text/x-python",
   "name": "python",
   "nbconvert_exporter": "python",
   "pygments_lexer": "ipython3",
   "version": "3.8.8"
  },
  "orig_nbformat": 4
 },
 "nbformat": 4,
 "nbformat_minor": 2
}

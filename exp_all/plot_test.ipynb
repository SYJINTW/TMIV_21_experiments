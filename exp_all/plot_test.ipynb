{
 "cells": [
  {
   "cell_type": "code",
   "execution_count": 1,
   "metadata": {},
   "outputs": [
    {
     "data": {
      "text/plain": [
       "'\\nImage name as {y}_{x}_{hue}_in_{filter}.eps\\n'"
      ]
     },
     "execution_count": 1,
     "metadata": {},
     "output_type": "execute_result"
    }
   ],
   "source": [
    "\"\"\"\n",
    "Image name as {y}_{x}_{hue}_in_{filter}.eps\n",
    "\"\"\""
   ]
  },
  {
   "cell_type": "code",
   "execution_count": 2,
   "metadata": {},
   "outputs": [],
   "source": [
    "import os\n",
    "import numpy as np\n",
    "import pandas as pd\n",
    "import matplotlib.pyplot as plt\n",
    "import seaborn as sns"
   ]
  },
  {
   "cell_type": "code",
   "execution_count": 3,
   "metadata": {},
   "outputs": [],
   "source": [
    "def all_average_plot(camera_positions, scenes, QPs, synthesizers, numGroups, pose_traces, numFrame):\n",
    "    AdditiveSynthesizer_datas = []\n",
    "    ViewWeightingSynthesizer_datas = []\n",
    "    df = pd.DataFrame()\n",
    "    df_tmp = pd.read_csv(f'./results/all.csv')\n",
    "    df = df.append(df_tmp)\n",
    "\n",
    "    ax_psnr = sns.barplot(x='QP', y='psnr_mean', data = df, capsize=.1)\n",
    "    ax_psnr.set_title(f'Average PSNR')\n",
    "    ax_psnr.set(xlabel=\"QP\", ylabel=\"PSNR\")\n",
    "    ax_psnr.set(ylim=(30,50), yticks=[i for i in range(30,51,5)])\n",
    "    plt.savefig('./img/all_psnr_average_in_QP.eps', dpi=300)\n",
    "    plt.show()"
   ]
  },
  {
   "cell_type": "code",
   "execution_count": 4,
   "metadata": {},
   "outputs": [],
   "source": [
    "def bitrate_plot(camera_positions, scenes, QPs, synthesizers, numGroups, pose_traces, numFrame):\n",
    "    \n",
    "    if not os.path.exists(f\"./img\"):\n",
    "        os.system(f\"mkdir ./img\")\n",
    "    if not os.path.exists(f\"./img/bitrate\"):\n",
    "        os.system(f\"mkdir ./img/bitrate\")\n",
    "    \n",
    "    df = pd.DataFrame()\n",
    "    df_tmp = pd.read_csv(f'./results/all.csv')\n",
    "    df = df.append(df_tmp)\n",
    "\n",
    "    # all pose trace use the same reference source\n",
    "    fliter1 = (df[\"pose_traces\"] == \"pose0\") \n",
    "    df = df[fliter1]\n",
    "    filter2 = (df[\"QP\"] == 20)\n",
    "    df = df[filter2]\n",
    "    df.to_csv(f\"./test.csv\", index=False)\n",
    "\n",
    "\n",
    "    ax = sns.barplot(x='scene', y='bitrate', hue='camera_position', data = df)\n",
    "    ax.set_title(f'Bitrate')\n",
    "    ax.set(xlabel=\"\", ylabel=\"bitrate\")\n",
    "    plt.xticks(rotation=60)\n",
    "    plt.legend(bbox_to_anchor=(1.05, 1), loc=2, borderaxespad=0.)\n",
    "    plt.savefig('./img/bitrate_scene_camera_in_pose0_rec20.eps', dpi=300)\n",
    "    plt.savefig('./img/bitrate_scene_camera_in_pose0_rec20.png', dpi=300)\n",
    "    plt.show()"
   ]
  },
  {
   "cell_type": "code",
   "execution_count": 5,
   "metadata": {},
   "outputs": [],
   "source": [
    "def quality_metrics_plot(camera_positions, scenes, QPs, synthesizers, numGroups, pose_traces, numFrame):\n",
    "    \n",
    "    if not os.path.exists(f\"./img\"):\n",
    "        os.system(f\"mkdir ./img\")\n",
    "    if not os.path.exists(f\"./img/synthesizer\"):\n",
    "        os.system(f\"mkdir ./img/synthesizer\")\n",
    "    \n",
    "\n",
    "    df = pd.DataFrame()\n",
    "    df_tmp = pd.read_csv(f'./results/all.csv')\n",
    "    df = df.append(df_tmp)\n",
    "\n",
    "    # all pose trace use the same reference source\n",
    "    fliter1 = (df[\"QP\"] == 20) \n",
    "    df_QP = df[fliter1]\n",
    "\n",
    "    # all in one figure\n",
    "    for metric in ['psnr', 'ssim', 'vmaf']:\n",
    "        fliter2 = (df[\"camera_position\"] != 'sphere_6x6') \n",
    "        df_QP = df[fliter2]\n",
    "        df_QP.to_csv(f\"./test.csv\", index=False)\n",
    "\n",
    "        ax = sns.barplot(x='synthesizer', y=f'{metric}_mean', hue='camera_position', data = df_QP)\n",
    "        ax.set_title(f'{metric} in All')\n",
    "        ax.set(xlabel=\"\", ylabel=f\"{metric}\")\n",
    "        # plt.xticks(rotation=60)\n",
    "        plt.legend(bbox_to_anchor=(1.05, 1), loc=2, borderaxespad=0.)\n",
    "        plt.savefig(f'./img/synthesizer/{metric}_synthesizer_camera_position_rec20_all.eps', dpi=300)\n",
    "        plt.savefig(f'./img/synthesizer/{metric}_synthesizer_camera_position_rec20_all.png', dpi=300)\n",
    "        plt.show()\n",
    "        plt.clf()\n",
    "    \n",
    "    # # based on synthesizer\n",
    "    # for scene in scenes:\n",
    "    #     for metric in ['psnr', 'ssim', 'vmaf']:\n",
    "    #         filter2 = (df_QP[\"scene\"] == scene)\n",
    "    #         df_scene = df_QP[filter2]\n",
    "    #         df_scene.to_csv(f\"./test.csv\", index=False)\n",
    "\n",
    "    #         ax = sns.barplot(x='synthesizer', y=f'{metric}_mean', hue='camera_position', data = df_scene)\n",
    "    #         ax.set_title(f'{metric} in {scene}')\n",
    "    #         ax.set(xlabel=\"\", ylabel=f\"{metric}\")\n",
    "    #         # plt.xticks(rotation=60)\n",
    "    #         plt.legend(bbox_to_anchor=(1.05, 1), loc=2, borderaxespad=0.)\n",
    "    #         plt.savefig(f'./img/synthesizer/{metric}_synthesizer_camera_position_rec20_{scene}.eps', dpi=300)\n",
    "    #         plt.savefig(f'./img/synthesizer/{metric}_synthesizer_camera_position_rec20_{scene}.png', dpi=300)\n",
    "    #         plt.show()\n",
    "    #         plt.clf()\n",
    "\n",
    "    # # based on camera position\n",
    "    # for scene in scenes:\n",
    "    #     for metric in ['psnr', 'ssim', 'vmaf']:\n",
    "    #         filter2 = (df_QP[\"scene\"] == scene)\n",
    "    #         df_scene = df_QP[filter2]\n",
    "    #         df_scene.to_csv(f\"./test.csv\", index=False)\n",
    "\n",
    "    #         ax = sns.barplot(x='camera_position', y=f'{metric}_mean', hue='synthesizer', data = df_scene)\n",
    "    #         ax.set_title(f'{metric} in {scene}')\n",
    "    #         ax.set(xlabel=\"\", ylabel=f\"{metric}\")\n",
    "    #         # plt.xticks(rotation=60)\n",
    "    #         plt.legend(bbox_to_anchor=(1.05, 1), loc=2, borderaxespad=0.)\n",
    "    #         plt.savefig(f'./img/synthesizer/{metric}_synthesizer_camera_position_rec20_{scene}.eps', dpi=300)\n",
    "    #         plt.savefig(f'./img/synthesizer/{metric}_synthesizer_camera_position_rec20_{scene}.png', dpi=300)\n",
    "    #         plt.show()\n",
    "    #         plt.clf()"
   ]
  },
  {
   "cell_type": "code",
   "execution_count": 6,
   "metadata": {},
   "outputs": [],
   "source": [
    "def arc_and_flat(camera_positions, scenes, QPs, synthesizers, numGroups, pose_traces, numFrame):\n",
    "    \n",
    "    if not os.path.exists(f\"./img\"):\n",
    "        os.system(f\"mkdir ./img\")\n",
    "    if not os.path.exists(f\"./img/arc_and_flat\"):\n",
    "        os.system(f\"mkdir ./img/arc_and_flat\")\n",
    "    \n",
    "\n",
    "    df = pd.DataFrame()\n",
    "    df_tmp = pd.read_csv(f'./results/all.csv')\n",
    "    df = df.append(df_tmp)\n",
    "\n",
    "    # all pose trace use the same reference source\n",
    "    df_scene = df_camera_position = df.loc[(df[\"scene\"] == 'RealisticRendering') & (df[\"QP\"] == 20) & (df['synthesizer'] == 'AdditiveSynthesizer')]\n",
    "    df_camera_position = df_scene.loc[(df_scene[\"camera_position\"] == 'sphere_6x6') | (df_scene[\"camera_position\"] == '6x6')]\n",
    "    df_camera_position.to_csv(f\"./test.csv\", index=False)\n",
    "    \n",
    "    # focus on two camera position\n",
    "    for metric in ['psnr', 'ssim', 'vmaf']:\n",
    "        ax = sns.barplot(x='camera_position', y=f'{metric}_mean', data = df_camera_position)\n",
    "        ax.set_title(f'{metric} in RealisticRendering')\n",
    "        ax.set(xlabel=\"\", ylabel=f\"{metric}\")\n",
    "        plt.legend(bbox_to_anchor=(1.05, 1), loc=2, borderaxespad=0.)\n",
    "        plt.savefig(f'./img/arc_and_flat/{metric}_camera_position_arc_and_flat_in_AdditiveSynthesizer_rec20.eps', dpi=300)\n",
    "        plt.savefig(f'./img/arc_and_flat/{metric}_camera_position_arc_and_flat_in_AdditiveSynthesizer_rec20.png', dpi=300)\n",
    "        plt.show()\n",
    "        plt.clf()\n",
    "    \n",
    "    # focus on each pose trace\n",
    "    for metric in ['psnr', 'ssim', 'vmaf']:\n",
    "        ax = sns.barplot(x='pose_traces', y=f'{metric}_mean', hue='camera_position', data = df_camera_position)\n",
    "        ax.set_title(f'{metric} in RealisticRendering')\n",
    "        ax.set(xlabel=\"\", ylabel=f\"{metric}\")\n",
    "        plt.legend(bbox_to_anchor=(1.05, 1), loc=2, borderaxespad=0.)\n",
    "        plt.savefig(f'./img/arc_and_flat/{metric}_pose_traces_arc_and_flat_in_AdditiveSynthesizer_rec20.eps', dpi=300)\n",
    "        plt.savefig(f'./img/arc_and_flat/{metric}_pose_traces_arc_and_flat_in_AdditiveSynthesizer_rec20.png', dpi=300)\n",
    "        plt.show()\n",
    "        plt.clf()\n",
    "\n",
    "    # focus on bitrate in two camera position\n",
    "    ax = sns.barplot(x='camera_position', y=f'bitrate', data = df_camera_position)\n",
    "    ax.set_title(f'Bitrate in RealisticRendering')\n",
    "    ax.set(xlabel=\"\", ylabel=f\"Bitrate\")\n",
    "    plt.legend(bbox_to_anchor=(1.05, 1), loc=2, borderaxespad=0.)\n",
    "    plt.savefig(f'./img/arc_and_flat/bitrate_camera_position_arc_and_flat_in_AdditiveSynthesizer_rec20.eps', dpi=300)\n",
    "    plt.savefig(f'./img/arc_and_flat/bitrate_camera_position_arc_and_flat_in_AdditiveSynthesizer_rec20.png', dpi=300)\n",
    "    plt.show()\n",
    "    plt.clf()\n",
    "\n",
    "    # focus on time in two camera position\n",
    "    df_tmp1 = df_camera_position.loc[(df_camera_position[\"camera_position\"] == \"6x6\")]\n",
    "    df_tmp2 = df_camera_position.loc[(df_camera_position[\"camera_position\"] == \"sphere_6x6\")]\n",
    "    total_time_6x6 = (df_tmp1['TMIV_encoding_time'].sum() + df_tmp1['TMIV_decoding_time'].sum() + df_tmp1['x265_encoding_time'].sum() + df_tmp1['x265_decoding_time'].sum())/10\n",
    "    total_time_sphere_6x6 = (df_tmp2['TMIV_encoding_time'].sum() + df_tmp2['TMIV_decoding_time'].sum() + df_tmp2['x265_encoding_time'].sum() + df_tmp2['x265_decoding_time'].sum())/10\n",
    "    ax = sns.barplot(x=['6x6','6x6_sphere'], y=[total_time_6x6, total_time_sphere_6x6])\n",
    "    ax.set_title(f'Time in RealisticRendering')\n",
    "    ax.set(xlabel=\"\", ylabel=f\"Time(sec)\")\n",
    "    plt.legend(bbox_to_anchor=(1.05, 1), loc=2, borderaxespad=0.)\n",
    "    plt.savefig(f'./img/arc_and_flat/time_camera_position_arc_and_flat_in_AdditiveSynthesizer_rec20.eps', dpi=300)\n",
    "    plt.savefig(f'./img/arc_and_flat/time_camera_position_arc_and_flat_in_AdditiveSynthesizer_rec20.png', dpi=300)\n",
    "    plt.show()\n",
    "    plt.clf()"
   ]
  },
  {
   "cell_type": "code",
   "execution_count": 7,
   "metadata": {},
   "outputs": [],
   "source": [
    "def time_plot(camera_positions, scenes, QPs, synthesizers, numGroups, pose_traces, numFrame):\n",
    "    if not os.path.exists(f\"./img\"):\n",
    "        os.system(f\"mkdir ./img\")\n",
    "    if not os.path.exists(f\"./img/time_plot\"):\n",
    "        os.system(f\"mkdir ./img/time_plot\")\n",
    "\n",
    "    df = pd.DataFrame()\n",
    "    df_tmp = pd.read_csv(f'./results/all.csv')\n",
    "    df = df.append(df_tmp)\n",
    "\n",
    "    for scene in scenes:\n",
    "        df_tmp = df.loc[(df[\"scene\"] == scene) & (df['synthesizer'] == 'AdditiveSynthesizer')]\n",
    "        df_tmp.to_csv(f\"./test.csv\", index=False)\n",
    "        data_x = []\n",
    "        data_y = []\n",
    "        data_hue = []\n",
    "        for QP in QPs:\n",
    "            df_tmp_QP = df_tmp.loc[(df_tmp[\"QP\"] == QP)]\n",
    "            for camera_position in camera_positions:\n",
    "                df_tmp_cam = df_tmp_QP.loc[(df_tmp_QP[\"camera_position\"] == camera_position)]\n",
    "                total_time = (df_tmp_cam['TMIV_encoding_time'].sum() + df_tmp_cam['TMIV_decoding_time'].sum() + df_tmp_cam['x265_encoding_time'].sum() + df_tmp_cam['x265_decoding_time'].sum())/df_tmp_cam.size\n",
    "                data_x.append(QP)\n",
    "                data_y.append(total_time)\n",
    "                data_hue.append(camera_position)\n",
    "            \n",
    "\n",
    "        ax = sns.barplot(x=data_x, y=data_y, hue=data_hue)\n",
    "        ax.set_title(f'Time in {scene}')\n",
    "        ax.set(xlabel=\"\", ylabel=f\"Time(sec)\")\n",
    "        plt.legend(bbox_to_anchor=(1.05, 1), loc=2, borderaxespad=0.)\n",
    "        plt.savefig(f'./img/time_plot/time_QP_camera_position_in_AdditiveSynthesizer_{scene}.eps', dpi=300)\n",
    "        plt.savefig(f'./img/time_plot/time_QP_camera_position_in_AdditiveSynthesizer_{scene}.png', dpi=300)\n",
    "        plt.show()\n",
    "        plt.cla()"
   ]
  },
  {
   "cell_type": "code",
   "execution_count": 8,
   "metadata": {},
   "outputs": [],
   "source": [
    "\n",
    "def main():\n",
    "    # setup paras\n",
    "    # camera_positions = np.array([\"6x6\", \"9x4\", \"12x3\", \"18x2\"])\n",
    "    # scenes = np.array(['ArchVizInterior', 'LightroomInteriorDayLight', 'office', 'RealisticRendering', 'XoioBerlinFlat'])\n",
    "    # QPs = np.array([20, 36, 44, 48, 50])\n",
    "    # synthesizers = np.array([\"AdditiveSynthesizer\", \"ViewWeightingSynthesizer\"])\n",
    "    # numGroups = np.array([1])\n",
    "    # pose_traces = np.array([f'pose{i}' for i in range(10)])\n",
    "    # numFrame = 1\n",
    "\n",
    "    # 1\n",
    "    camera_positions = np.array([\"6x6\", \"9x4\", \"12x3\", \"18x2\"])\n",
    "    scenes = np.array(['ArchVizInterior', 'LightroomInteriorDayLight', 'office', 'RealisticRendering', 'XoioBerlinFlat'])\n",
    "    QPs = np.array([20, 36, 44, 48, 50])\n",
    "    synthesizers = np.array([\"AdditiveSynthesizer\", \"ViewWeightingSynthesizer\"])\n",
    "    numGroups = np.array([1])\n",
    "    pose_traces = np.array([f'pose{i}' for i in range(10)])\n",
    "    numFrame = 1\n",
    "\n",
    "    # bitrate_plot(camera_positions, scenes, QPs, synthesizers, numGroups, pose_traces, numFrame)\n",
    "    # quality_metrics_plot(camera_positions, scenes, QPs, synthesizers, numGroups, pose_traces, numFrame)\n",
    "    # arc_and_flat(camera_positions, scenes, QPs, synthesizers, numGroups, pose_traces, numFrame)\n",
    "    time_plot(camera_positions, scenes, QPs, synthesizers, numGroups, pose_traces, numFrame)\n",
    "    "
   ]
  },
  {
   "cell_type": "code",
   "execution_count": 9,
   "metadata": {},
   "outputs": [
    {
     "name": "stderr",
     "output_type": "stream",
     "text": [
      "The PostScript backend does not support transparency; partially transparent artists will be rendered opaque.\n",
      "The PostScript backend does not support transparency; partially transparent artists will be rendered opaque.\n"
     ]
    },
    {
     "ename": "FileNotFoundError",
     "evalue": "[Errno 2] No such file or directory: './img/time_plot/time_QP_camera_position_in_AdditiveSynthesizer_ArchVizInterior.eps'",
     "output_type": "error",
     "traceback": [
      "\u001b[1;31m---------------------------------------------------------------------------\u001b[0m",
      "\u001b[1;31mFileNotFoundError\u001b[0m                         Traceback (most recent call last)",
      "\u001b[1;32m<ipython-input-9-c7bc734e5e35>\u001b[0m in \u001b[0;36m<module>\u001b[1;34m\u001b[0m\n\u001b[0;32m      1\u001b[0m \u001b[1;32mif\u001b[0m \u001b[0m__name__\u001b[0m \u001b[1;33m==\u001b[0m \u001b[1;34m'__main__'\u001b[0m\u001b[1;33m:\u001b[0m\u001b[1;33m\u001b[0m\u001b[1;33m\u001b[0m\u001b[0m\n\u001b[1;32m----> 2\u001b[1;33m     \u001b[0mmain\u001b[0m\u001b[1;33m(\u001b[0m\u001b[1;33m)\u001b[0m\u001b[1;33m\u001b[0m\u001b[1;33m\u001b[0m\u001b[0m\n\u001b[0m",
      "\u001b[1;32m<ipython-input-8-1c7012307995>\u001b[0m in \u001b[0;36mmain\u001b[1;34m()\u001b[0m\n\u001b[0;32m     21\u001b[0m     \u001b[1;31m# quality_metrics_plot(camera_positions, scenes, QPs, synthesizers, numGroups, pose_traces, numFrame)\u001b[0m\u001b[1;33m\u001b[0m\u001b[1;33m\u001b[0m\u001b[1;33m\u001b[0m\u001b[0m\n\u001b[0;32m     22\u001b[0m     \u001b[1;31m# arc_and_flat(camera_positions, scenes, QPs, synthesizers, numGroups, pose_traces, numFrame)\u001b[0m\u001b[1;33m\u001b[0m\u001b[1;33m\u001b[0m\u001b[1;33m\u001b[0m\u001b[0m\n\u001b[1;32m---> 23\u001b[1;33m     \u001b[0mtime_plot\u001b[0m\u001b[1;33m(\u001b[0m\u001b[0mcamera_positions\u001b[0m\u001b[1;33m,\u001b[0m \u001b[0mscenes\u001b[0m\u001b[1;33m,\u001b[0m \u001b[0mQPs\u001b[0m\u001b[1;33m,\u001b[0m \u001b[0msynthesizers\u001b[0m\u001b[1;33m,\u001b[0m \u001b[0mnumGroups\u001b[0m\u001b[1;33m,\u001b[0m \u001b[0mpose_traces\u001b[0m\u001b[1;33m,\u001b[0m \u001b[0mnumFrame\u001b[0m\u001b[1;33m)\u001b[0m\u001b[1;33m\u001b[0m\u001b[1;33m\u001b[0m\u001b[0m\n\u001b[0m\u001b[0;32m     24\u001b[0m \u001b[1;33m\u001b[0m\u001b[0m\n",
      "\u001b[1;32m<ipython-input-7-05178348d076>\u001b[0m in \u001b[0;36mtime_plot\u001b[1;34m(camera_positions, scenes, QPs, synthesizers, numGroups, pose_traces, numFrame)\u001b[0m\n\u001b[0;32m     29\u001b[0m         \u001b[0max\u001b[0m\u001b[1;33m.\u001b[0m\u001b[0mset\u001b[0m\u001b[1;33m(\u001b[0m\u001b[0mxlabel\u001b[0m\u001b[1;33m=\u001b[0m\u001b[1;34m\"\"\u001b[0m\u001b[1;33m,\u001b[0m \u001b[0mylabel\u001b[0m\u001b[1;33m=\u001b[0m\u001b[1;34mf\"Time(sec)\"\u001b[0m\u001b[1;33m)\u001b[0m\u001b[1;33m\u001b[0m\u001b[1;33m\u001b[0m\u001b[0m\n\u001b[0;32m     30\u001b[0m         \u001b[0mplt\u001b[0m\u001b[1;33m.\u001b[0m\u001b[0mlegend\u001b[0m\u001b[1;33m(\u001b[0m\u001b[0mbbox_to_anchor\u001b[0m\u001b[1;33m=\u001b[0m\u001b[1;33m(\u001b[0m\u001b[1;36m1.05\u001b[0m\u001b[1;33m,\u001b[0m \u001b[1;36m1\u001b[0m\u001b[1;33m)\u001b[0m\u001b[1;33m,\u001b[0m \u001b[0mloc\u001b[0m\u001b[1;33m=\u001b[0m\u001b[1;36m2\u001b[0m\u001b[1;33m,\u001b[0m \u001b[0mborderaxespad\u001b[0m\u001b[1;33m=\u001b[0m\u001b[1;36m0.\u001b[0m\u001b[1;33m)\u001b[0m\u001b[1;33m\u001b[0m\u001b[1;33m\u001b[0m\u001b[0m\n\u001b[1;32m---> 31\u001b[1;33m         \u001b[0mplt\u001b[0m\u001b[1;33m.\u001b[0m\u001b[0msavefig\u001b[0m\u001b[1;33m(\u001b[0m\u001b[1;34mf'./img/time_plot/time_QP_camera_position_in_AdditiveSynthesizer_{scene}.eps'\u001b[0m\u001b[1;33m,\u001b[0m \u001b[0mdpi\u001b[0m\u001b[1;33m=\u001b[0m\u001b[1;36m300\u001b[0m\u001b[1;33m)\u001b[0m\u001b[1;33m\u001b[0m\u001b[1;33m\u001b[0m\u001b[0m\n\u001b[0m\u001b[0;32m     32\u001b[0m         \u001b[0mplt\u001b[0m\u001b[1;33m.\u001b[0m\u001b[0msavefig\u001b[0m\u001b[1;33m(\u001b[0m\u001b[1;34mf'./img/time_plot/time_QP_camera_position_in_AdditiveSynthesizer_{scene}.png'\u001b[0m\u001b[1;33m,\u001b[0m \u001b[0mdpi\u001b[0m\u001b[1;33m=\u001b[0m\u001b[1;36m300\u001b[0m\u001b[1;33m)\u001b[0m\u001b[1;33m\u001b[0m\u001b[1;33m\u001b[0m\u001b[0m\n\u001b[0;32m     33\u001b[0m         \u001b[0mplt\u001b[0m\u001b[1;33m.\u001b[0m\u001b[0mshow\u001b[0m\u001b[1;33m(\u001b[0m\u001b[1;33m)\u001b[0m\u001b[1;33m\u001b[0m\u001b[1;33m\u001b[0m\u001b[0m\n",
      "\u001b[1;32m~\\anaconda3\\lib\\site-packages\\matplotlib\\pyplot.py\u001b[0m in \u001b[0;36msavefig\u001b[1;34m(*args, **kwargs)\u001b[0m\n\u001b[0;32m    857\u001b[0m \u001b[1;32mdef\u001b[0m \u001b[0msavefig\u001b[0m\u001b[1;33m(\u001b[0m\u001b[1;33m*\u001b[0m\u001b[0margs\u001b[0m\u001b[1;33m,\u001b[0m \u001b[1;33m**\u001b[0m\u001b[0mkwargs\u001b[0m\u001b[1;33m)\u001b[0m\u001b[1;33m:\u001b[0m\u001b[1;33m\u001b[0m\u001b[1;33m\u001b[0m\u001b[0m\n\u001b[0;32m    858\u001b[0m     \u001b[0mfig\u001b[0m \u001b[1;33m=\u001b[0m \u001b[0mgcf\u001b[0m\u001b[1;33m(\u001b[0m\u001b[1;33m)\u001b[0m\u001b[1;33m\u001b[0m\u001b[1;33m\u001b[0m\u001b[0m\n\u001b[1;32m--> 859\u001b[1;33m     \u001b[0mres\u001b[0m \u001b[1;33m=\u001b[0m \u001b[0mfig\u001b[0m\u001b[1;33m.\u001b[0m\u001b[0msavefig\u001b[0m\u001b[1;33m(\u001b[0m\u001b[1;33m*\u001b[0m\u001b[0margs\u001b[0m\u001b[1;33m,\u001b[0m \u001b[1;33m**\u001b[0m\u001b[0mkwargs\u001b[0m\u001b[1;33m)\u001b[0m\u001b[1;33m\u001b[0m\u001b[1;33m\u001b[0m\u001b[0m\n\u001b[0m\u001b[0;32m    860\u001b[0m     \u001b[0mfig\u001b[0m\u001b[1;33m.\u001b[0m\u001b[0mcanvas\u001b[0m\u001b[1;33m.\u001b[0m\u001b[0mdraw_idle\u001b[0m\u001b[1;33m(\u001b[0m\u001b[1;33m)\u001b[0m   \u001b[1;31m# need this if 'transparent=True' to reset colors\u001b[0m\u001b[1;33m\u001b[0m\u001b[1;33m\u001b[0m\u001b[0m\n\u001b[0;32m    861\u001b[0m     \u001b[1;32mreturn\u001b[0m \u001b[0mres\u001b[0m\u001b[1;33m\u001b[0m\u001b[1;33m\u001b[0m\u001b[0m\n",
      "\u001b[1;32m~\\anaconda3\\lib\\site-packages\\matplotlib\\figure.py\u001b[0m in \u001b[0;36msavefig\u001b[1;34m(self, fname, transparent, **kwargs)\u001b[0m\n\u001b[0;32m   2309\u001b[0m                 \u001b[0mpatch\u001b[0m\u001b[1;33m.\u001b[0m\u001b[0mset_edgecolor\u001b[0m\u001b[1;33m(\u001b[0m\u001b[1;34m'none'\u001b[0m\u001b[1;33m)\u001b[0m\u001b[1;33m\u001b[0m\u001b[1;33m\u001b[0m\u001b[0m\n\u001b[0;32m   2310\u001b[0m \u001b[1;33m\u001b[0m\u001b[0m\n\u001b[1;32m-> 2311\u001b[1;33m         \u001b[0mself\u001b[0m\u001b[1;33m.\u001b[0m\u001b[0mcanvas\u001b[0m\u001b[1;33m.\u001b[0m\u001b[0mprint_figure\u001b[0m\u001b[1;33m(\u001b[0m\u001b[0mfname\u001b[0m\u001b[1;33m,\u001b[0m \u001b[1;33m**\u001b[0m\u001b[0mkwargs\u001b[0m\u001b[1;33m)\u001b[0m\u001b[1;33m\u001b[0m\u001b[1;33m\u001b[0m\u001b[0m\n\u001b[0m\u001b[0;32m   2312\u001b[0m \u001b[1;33m\u001b[0m\u001b[0m\n\u001b[0;32m   2313\u001b[0m         \u001b[1;32mif\u001b[0m \u001b[0mtransparent\u001b[0m\u001b[1;33m:\u001b[0m\u001b[1;33m\u001b[0m\u001b[1;33m\u001b[0m\u001b[0m\n",
      "\u001b[1;32m~\\anaconda3\\lib\\site-packages\\matplotlib\\backend_bases.py\u001b[0m in \u001b[0;36mprint_figure\u001b[1;34m(self, filename, dpi, facecolor, edgecolor, orientation, format, bbox_inches, pad_inches, bbox_extra_artists, backend, **kwargs)\u001b[0m\n\u001b[0;32m   2208\u001b[0m \u001b[1;33m\u001b[0m\u001b[0m\n\u001b[0;32m   2209\u001b[0m             \u001b[1;32mtry\u001b[0m\u001b[1;33m:\u001b[0m\u001b[1;33m\u001b[0m\u001b[1;33m\u001b[0m\u001b[0m\n\u001b[1;32m-> 2210\u001b[1;33m                 result = print_method(\n\u001b[0m\u001b[0;32m   2211\u001b[0m                     \u001b[0mfilename\u001b[0m\u001b[1;33m,\u001b[0m\u001b[1;33m\u001b[0m\u001b[1;33m\u001b[0m\u001b[0m\n\u001b[0;32m   2212\u001b[0m                     \u001b[0mdpi\u001b[0m\u001b[1;33m=\u001b[0m\u001b[0mdpi\u001b[0m\u001b[1;33m,\u001b[0m\u001b[1;33m\u001b[0m\u001b[1;33m\u001b[0m\u001b[0m\n",
      "\u001b[1;32m~\\anaconda3\\lib\\site-packages\\matplotlib\\backends\\backend_ps.py\u001b[0m in \u001b[0;36mprint_eps\u001b[1;34m(self, outfile, *args, **kwargs)\u001b[0m\n\u001b[0;32m    769\u001b[0m \u001b[1;33m\u001b[0m\u001b[0m\n\u001b[0;32m    770\u001b[0m     \u001b[1;32mdef\u001b[0m \u001b[0mprint_eps\u001b[0m\u001b[1;33m(\u001b[0m\u001b[0mself\u001b[0m\u001b[1;33m,\u001b[0m \u001b[0moutfile\u001b[0m\u001b[1;33m,\u001b[0m \u001b[1;33m*\u001b[0m\u001b[0margs\u001b[0m\u001b[1;33m,\u001b[0m \u001b[1;33m**\u001b[0m\u001b[0mkwargs\u001b[0m\u001b[1;33m)\u001b[0m\u001b[1;33m:\u001b[0m\u001b[1;33m\u001b[0m\u001b[1;33m\u001b[0m\u001b[0m\n\u001b[1;32m--> 771\u001b[1;33m         \u001b[1;32mreturn\u001b[0m \u001b[0mself\u001b[0m\u001b[1;33m.\u001b[0m\u001b[0m_print_ps\u001b[0m\u001b[1;33m(\u001b[0m\u001b[0moutfile\u001b[0m\u001b[1;33m,\u001b[0m \u001b[1;34m'eps'\u001b[0m\u001b[1;33m,\u001b[0m \u001b[1;33m*\u001b[0m\u001b[0margs\u001b[0m\u001b[1;33m,\u001b[0m \u001b[1;33m**\u001b[0m\u001b[0mkwargs\u001b[0m\u001b[1;33m)\u001b[0m\u001b[1;33m\u001b[0m\u001b[1;33m\u001b[0m\u001b[0m\n\u001b[0m\u001b[0;32m    772\u001b[0m \u001b[1;33m\u001b[0m\u001b[0m\n\u001b[0;32m    773\u001b[0m     def _print_ps(\n",
      "\u001b[1;32m~\\anaconda3\\lib\\site-packages\\matplotlib\\backends\\backend_ps.py\u001b[0m in \u001b[0;36m_print_ps\u001b[1;34m(self, outfile, format, dpi, metadata, papertype, orientation, *args, **kwargs)\u001b[0m\n\u001b[0;32m    806\u001b[0m                    \u001b[1;32mif\u001b[0m \u001b[0mmpl\u001b[0m\u001b[1;33m.\u001b[0m\u001b[0mrcParams\u001b[0m\u001b[1;33m[\u001b[0m\u001b[1;34m'text.usetex'\u001b[0m\u001b[1;33m]\u001b[0m \u001b[1;32melse\u001b[0m\u001b[1;33m\u001b[0m\u001b[1;33m\u001b[0m\u001b[0m\n\u001b[0;32m    807\u001b[0m                    self._print_figure)\n\u001b[1;32m--> 808\u001b[1;33m         printer(outfile, format, dpi=dpi, dsc_comments=dsc_comments,\n\u001b[0m\u001b[0;32m    809\u001b[0m                 orientation=orientation, papertype=papertype, **kwargs)\n\u001b[0;32m    810\u001b[0m \u001b[1;33m\u001b[0m\u001b[0m\n",
      "\u001b[1;32m~\\anaconda3\\lib\\site-packages\\matplotlib\\backend_bases.py\u001b[0m in \u001b[0;36mwrapper\u001b[1;34m(*args, **kwargs)\u001b[0m\n\u001b[0;32m   1637\u001b[0m             \u001b[0mkwargs\u001b[0m\u001b[1;33m.\u001b[0m\u001b[0mpop\u001b[0m\u001b[1;33m(\u001b[0m\u001b[0marg\u001b[0m\u001b[1;33m)\u001b[0m\u001b[1;33m\u001b[0m\u001b[1;33m\u001b[0m\u001b[0m\n\u001b[0;32m   1638\u001b[0m \u001b[1;33m\u001b[0m\u001b[0m\n\u001b[1;32m-> 1639\u001b[1;33m         \u001b[1;32mreturn\u001b[0m \u001b[0mfunc\u001b[0m\u001b[1;33m(\u001b[0m\u001b[1;33m*\u001b[0m\u001b[0margs\u001b[0m\u001b[1;33m,\u001b[0m \u001b[1;33m**\u001b[0m\u001b[0mkwargs\u001b[0m\u001b[1;33m)\u001b[0m\u001b[1;33m\u001b[0m\u001b[1;33m\u001b[0m\u001b[0m\n\u001b[0m\u001b[0;32m   1640\u001b[0m \u001b[1;33m\u001b[0m\u001b[0m\n\u001b[0;32m   1641\u001b[0m     \u001b[1;32mreturn\u001b[0m \u001b[0mwrapper\u001b[0m\u001b[1;33m\u001b[0m\u001b[1;33m\u001b[0m\u001b[0m\n",
      "\u001b[1;32m~\\anaconda3\\lib\\site-packages\\matplotlib\\cbook\\deprecation.py\u001b[0m in \u001b[0;36mwrapper\u001b[1;34m(*inner_args, **inner_kwargs)\u001b[0m\n\u001b[0;32m    409\u001b[0m                          \u001b[1;32melse\u001b[0m \u001b[0mdeprecation_addendum\u001b[0m\u001b[1;33m,\u001b[0m\u001b[1;33m\u001b[0m\u001b[1;33m\u001b[0m\u001b[0m\n\u001b[0;32m    410\u001b[0m                 **kwargs)\n\u001b[1;32m--> 411\u001b[1;33m         \u001b[1;32mreturn\u001b[0m \u001b[0mfunc\u001b[0m\u001b[1;33m(\u001b[0m\u001b[1;33m*\u001b[0m\u001b[0minner_args\u001b[0m\u001b[1;33m,\u001b[0m \u001b[1;33m**\u001b[0m\u001b[0minner_kwargs\u001b[0m\u001b[1;33m)\u001b[0m\u001b[1;33m\u001b[0m\u001b[1;33m\u001b[0m\u001b[0m\n\u001b[0m\u001b[0;32m    412\u001b[0m \u001b[1;33m\u001b[0m\u001b[0m\n\u001b[0;32m    413\u001b[0m     \u001b[1;32mreturn\u001b[0m \u001b[0mwrapper\u001b[0m\u001b[1;33m\u001b[0m\u001b[1;33m\u001b[0m\u001b[0m\n",
      "\u001b[1;32m~\\anaconda3\\lib\\site-packages\\matplotlib\\backends\\backend_ps.py\u001b[0m in \u001b[0;36m_print_figure\u001b[1;34m(self, outfile, format, dpi, dsc_comments, orientation, papertype, dryrun, bbox_inches_restore)\u001b[0m\n\u001b[0;32m    984\u001b[0m                 \u001b[0mprint_figure_impl\u001b[0m\u001b[1;33m(\u001b[0m\u001b[0mfh\u001b[0m\u001b[1;33m)\u001b[0m\u001b[1;33m\u001b[0m\u001b[1;33m\u001b[0m\u001b[0m\n\u001b[0;32m    985\u001b[0m             \u001b[1;32melse\u001b[0m\u001b[1;33m:\u001b[0m\u001b[1;33m\u001b[0m\u001b[1;33m\u001b[0m\u001b[0m\n\u001b[1;32m--> 986\u001b[1;33m                 \u001b[1;32mwith\u001b[0m \u001b[0mopen\u001b[0m\u001b[1;33m(\u001b[0m\u001b[0moutfile\u001b[0m\u001b[1;33m,\u001b[0m \u001b[1;34m'w'\u001b[0m\u001b[1;33m,\u001b[0m \u001b[0mencoding\u001b[0m\u001b[1;33m=\u001b[0m\u001b[1;34m'latin-1'\u001b[0m\u001b[1;33m)\u001b[0m \u001b[1;32mas\u001b[0m \u001b[0mfh\u001b[0m\u001b[1;33m:\u001b[0m\u001b[1;33m\u001b[0m\u001b[1;33m\u001b[0m\u001b[0m\n\u001b[0m\u001b[0;32m    987\u001b[0m                     \u001b[0mprint_figure_impl\u001b[0m\u001b[1;33m(\u001b[0m\u001b[0mfh\u001b[0m\u001b[1;33m)\u001b[0m\u001b[1;33m\u001b[0m\u001b[1;33m\u001b[0m\u001b[0m\n\u001b[0;32m    988\u001b[0m \u001b[1;33m\u001b[0m\u001b[0m\n",
      "\u001b[1;31mFileNotFoundError\u001b[0m: [Errno 2] No such file or directory: './img/time_plot/time_QP_camera_position_in_AdditiveSynthesizer_ArchVizInterior.eps'"
     ]
    },
    {
     "data": {
      "image/png": "[encoded data removed]",
      "text/plain": [
       "<Figure size 432x288 with 1 Axes>"
      ]
     },
     "metadata": {
      "needs_background": "light"
     },
     "output_type": "display_data"
    }
   ],
   "source": [
    "if __name__ == '__main__':\n",
    "    main()"
   ]
  }
 ],
 "metadata": {
  "interpreter": {
   "hash": "4c4e8267fe3b9088a035ae44dec0e1710f1f649c1d516f5cd80e615a12280b47"
  },
  "kernelspec": {
   "display_name": "Python 3.8.8 64-bit ('base': conda)",
   "name": "python3"
  },
  "language_info": {
   "codemirror_mode": {
    "name": "ipython",
    "version": 3
   },
   "file_extension": ".py",
   "mimetype": "text/x-python",
   "name": "python",
   "nbconvert_exporter": "python",
   "pygments_lexer": "ipython3",
   "version": "3.8.8"
  },
  "orig_nbformat": 4
 },
 "nbformat": 4,
 "nbformat_minor": 2
}

{
 "cells": [
  {
   "cell_type": "code",
   "execution_count": 287,
   "metadata": {},
   "outputs": [
    {
     "data": {
      "text/plain": [
       "'\\nImage name as {y}_{x}_{hue}_in_{filter}.eps\\n'"
      ]
     },
     "execution_count": 287,
     "metadata": {},
     "output_type": "execute_result"
    }
   ],
   "source": [
    "\"\"\"\n",
    "Image name as {y}_{x}_{hue}_in_{filter}.eps\n",
    "\"\"\""
   ]
  },
  {
   "cell_type": "code",
   "execution_count": 288,
   "metadata": {},
   "outputs": [],
   "source": [
    "import os\n",
    "import numpy as np\n",
    "import pandas as pd\n",
    "import matplotlib.pyplot as plt\n",
    "import seaborn as sns"
   ]
  },
  {
   "cell_type": "code",
   "execution_count": 289,
   "metadata": {},
   "outputs": [],
   "source": [
    "\n",
    "def all_average_plot(camera_positions, scenes, QPs, synthesizers, numGroups, pose_traces, numFrame):\n",
    "    AdditiveSynthesizer_datas = []\n",
    "    ViewWeightingSynthesizer_datas = []\n",
    "    df = pd.DataFrame()\n",
    "    df_tmp = pd.read_csv(f'./results/all.csv')\n",
    "    df = df.append(df_tmp)\n",
    "\n",
    "    ax_psnr = sns.barplot(x='QP', y='psnr_mean', data = df, capsize=.1)\n",
    "    ax_psnr.set_title(f'Average PSNR')\n",
    "    ax_psnr.set(xlabel=\"QP\", ylabel=\"PSNR\")\n",
    "    ax_psnr.set(ylim=(30,50), yticks=[i for i in range(30,51,5)])\n",
    "    plt.savefig('./img/all_psnr_average_in_QP.eps', dpi=300)\n",
    "    plt.show()\n"
   ]
  },
  {
   "cell_type": "code",
   "execution_count": 290,
   "metadata": {},
   "outputs": [],
   "source": [
    "def bitrate_plot(camera_positions, scenes, QPs, synthesizers, numGroups, pose_traces, numFrame):\n",
    "    \n",
    "    if not os.path.exists(f\"./img\"):\n",
    "        os.system(f\"mkdir ./img\")\n",
    "    if not os.path.exists(f\"./img/bitrate\"):\n",
    "        os.system(f\"mkdir ./img/bitrate\")\n",
    "    \n",
    "    df = pd.DataFrame()\n",
    "    df_tmp = pd.read_csv(f'./results/all.csv')\n",
    "    df = df.append(df_tmp)\n",
    "\n",
    "    # all pose trace use the same reference source\n",
    "    fliter1 = (df[\"pose_traces\"] == \"pose0\") \n",
    "    df = df[fliter1]\n",
    "    filter2 = (df[\"QP\"] == 20)\n",
    "    df = df[filter2]\n",
    "    df.to_csv(f\"./test.csv\", index=False)\n",
    "\n",
    "\n",
    "    ax = sns.barplot(x='scene', y='bitrate', hue='camera_position', data = df)\n",
    "    ax.set_title(f'Bitrate')\n",
    "    ax.set(xlabel=\"\", ylabel=\"bitrate\")\n",
    "    plt.xticks(rotation=60)\n",
    "    plt.legend(bbox_to_anchor=(1.05, 1), loc=2, borderaxespad=0.)\n",
    "    plt.savefig('./img/bitrate_scene_camera_in_pose0_rec20.eps', dpi=300)\n",
    "    plt.savefig('./img/bitrate_scene_camera_in_pose0_rec20.png', dpi=300)\n",
    "    plt.show()"
   ]
  },
  {
   "cell_type": "code",
   "execution_count": 291,
   "metadata": {},
   "outputs": [],
   "source": [
    "def quality_metrics_plot(camera_positions, scenes, QPs, synthesizers, numGroups, pose_traces, numFrame):\n",
    "    \n",
    "    if not os.path.exists(f\"./img\"):\n",
    "        os.system(f\"mkdir ./img\")\n",
    "    if not os.path.exists(f\"./img/synthesizer\"):\n",
    "        os.system(f\"mkdir ./img/synthesizer\")\n",
    "    \n",
    "\n",
    "    df = pd.DataFrame()\n",
    "    df_tmp = pd.read_csv(f'./results/all.csv')\n",
    "    df = df.append(df_tmp)\n",
    "\n",
    "    # all pose trace use the same reference source\n",
    "    fliter1 = (df[\"QP\"] == 20) \n",
    "    df_QP = df[fliter1]\n",
    "\n",
    "    # all in one figure\n",
    "    for metric in ['psnr', 'ssim', 'vmaf']:\n",
    "        fliter2 = (df[\"camera_position\"] != 'sphere_6x6') \n",
    "        df_QP = df[fliter2]\n",
    "        df_QP.to_csv(f\"./test.csv\", index=False)\n",
    "\n",
    "        ax = sns.barplot(x='synthesizer', y=f'{metric}_mean', hue='camera_position', data = df_QP)\n",
    "        ax.set_title(f'{metric} in All')\n",
    "        ax.set(xlabel=\"\", ylabel=f\"{metric}\")\n",
    "        # plt.xticks(rotation=60)\n",
    "        plt.legend(bbox_to_anchor=(1.05, 1), loc=2, borderaxespad=0.)\n",
    "        plt.savefig(f'./img/synthesizer/{metric}_synthesizer_camera_position_rec20_all.eps', dpi=300)\n",
    "        plt.savefig(f'./img/synthesizer/{metric}_synthesizer_camera_position_rec20_all.png', dpi=300)\n",
    "        plt.show()\n",
    "        plt.clf()\n",
    "    \n",
    "    # # based on synthesizer\n",
    "    # for scene in scenes:\n",
    "    #     for metric in ['psnr', 'ssim', 'vmaf']:\n",
    "    #         filter2 = (df_QP[\"scene\"] == scene)\n",
    "    #         df_scene = df_QP[filter2]\n",
    "    #         df_scene.to_csv(f\"./test.csv\", index=False)\n",
    "\n",
    "    #         ax = sns.barplot(x='synthesizer', y=f'{metric}_mean', hue='camera_position', data = df_scene)\n",
    "    #         ax.set_title(f'{metric} in {scene}')\n",
    "    #         ax.set(xlabel=\"\", ylabel=f\"{metric}\")\n",
    "    #         # plt.xticks(rotation=60)\n",
    "    #         plt.legend(bbox_to_anchor=(1.05, 1), loc=2, borderaxespad=0.)\n",
    "    #         plt.savefig(f'./img/synthesizer/{metric}_synthesizer_camera_position_rec20_{scene}.eps', dpi=300)\n",
    "    #         plt.savefig(f'./img/synthesizer/{metric}_synthesizer_camera_position_rec20_{scene}.png', dpi=300)\n",
    "    #         plt.show()\n",
    "    #         plt.clf()\n",
    "\n",
    "    # # based on camera position\n",
    "    # for scene in scenes:\n",
    "    #     for metric in ['psnr', 'ssim', 'vmaf']:\n",
    "    #         filter2 = (df_QP[\"scene\"] == scene)\n",
    "    #         df_scene = df_QP[filter2]\n",
    "    #         df_scene.to_csv(f\"./test.csv\", index=False)\n",
    "\n",
    "    #         ax = sns.barplot(x='camera_position', y=f'{metric}_mean', hue='synthesizer', data = df_scene)\n",
    "    #         ax.set_title(f'{metric} in {scene}')\n",
    "    #         ax.set(xlabel=\"\", ylabel=f\"{metric}\")\n",
    "    #         # plt.xticks(rotation=60)\n",
    "    #         plt.legend(bbox_to_anchor=(1.05, 1), loc=2, borderaxespad=0.)\n",
    "    #         plt.savefig(f'./img/synthesizer/{metric}_synthesizer_camera_position_rec20_{scene}.eps', dpi=300)\n",
    "    #         plt.savefig(f'./img/synthesizer/{metric}_synthesizer_camera_position_rec20_{scene}.png', dpi=300)\n",
    "    #         plt.show()\n",
    "    #         plt.clf()"
   ]
  },
  {
   "cell_type": "code",
   "execution_count": 292,
   "metadata": {},
   "outputs": [],
   "source": [
    "def arc_and_flat(camera_positions, scenes, QPs, synthesizers, numGroups, pose_traces, numFrame):\n",
    "    \n",
    "    if not os.path.exists(f\"./img\"):\n",
    "        os.system(f\"mkdir ./img\")\n",
    "    if not os.path.exists(f\"./img/arc_and_flat\"):\n",
    "        os.system(f\"mkdir ./img/arc_and_flat\")\n",
    "    \n",
    "\n",
    "    df = pd.DataFrame()\n",
    "    df_tmp = pd.read_csv(f'./results/all.csv')\n",
    "    df = df.append(df_tmp)\n",
    "\n",
    "    # all pose trace use the same reference source\n",
    "    df_scene = df_camera_position = df.loc[(df[\"scene\"] == 'RealisticRendering')]\n",
    "    df_camera_position = df_scene.loc[(df_scene[\"camera_position\"] == 'sphere_6x6') | (df_scene[\"camera_position\"] == '6x6')]\n",
    "    df_camera_position.to_csv(f\"./test.csv\", index=False)\n",
    "    \n",
    "    for metric in ['psnr', 'ssim', 'vmaf']:\n",
    "        ax = sns.barplot(x='camera_position', y=f'{metric}_mean', data = df_camera_position)\n",
    "        ax.set_title(f'{metric} in RealisticRendering')\n",
    "        ax.set(xlabel=\"\", ylabel=f\"{metric}\")\n",
    "        # plt.xticks(rotation=60)\n",
    "        plt.legend(bbox_to_anchor=(1.05, 1), loc=2, borderaxespad=0.)\n",
    "        plt.savefig(f'./img/arc_and_flat/{metric}_camera_position_arc_and_flat.eps', dpi=300)\n",
    "        plt.savefig(f'./img/arc_and_flat/{metric}_camera_position_arc_and_flat.png', dpi=300)\n",
    "        plt.show()\n",
    "        plt.clf()\n",
    "    \n",
    "    for metric in ['psnr', 'ssim', 'vmaf']:\n",
    "        ax = sns.barplot(x='camera_position', y=f'{metric}_mean', data = df_camera_position)\n",
    "        ax.set_title(f'{metric} in RealisticRendering')\n",
    "        ax.set(xlabel=\"\", ylabel=f\"{metric}\")\n",
    "        # plt.xticks(rotation=60)\n",
    "        plt.legend(bbox_to_anchor=(1.05, 1), loc=2, borderaxespad=0.)\n",
    "        plt.savefig(f'./img/arc_and_flat/{metric}_camera_position_arc_and_flat.eps', dpi=300)\n",
    "        plt.savefig(f'./img/arc_and_flat/{metric}_camera_position_arc_and_flat.png', dpi=300)\n",
    "        plt.show()\n",
    "        plt.clf()"
   ]
  },
  {
   "cell_type": "code",
   "execution_count": 293,
   "metadata": {},
   "outputs": [],
   "source": [
    "\n",
    "def main():\n",
    "    # setup paras\n",
    "    # camera_positions = np.array([\"6x6\", \"9x4\", \"12x3\", \"18x2\"])\n",
    "    # scenes = np.array(['ArchVizInterior', 'LightroomInteriorDayLight', 'office', 'RealisticRendering', 'XoioBerlinFlat'])\n",
    "    # QPs = np.array([20, 36, 44, 48, 50])\n",
    "    # synthesizers = np.array([\"AdditiveSynthesizer\", \"ViewWeightingSynthesizer\"])\n",
    "    # numGroups = np.array([1])\n",
    "    # pose_traces = np.array([f'pose{i}' for i in range(10)])\n",
    "    # numFrame = 1\n",
    "\n",
    "    # 1\n",
    "    camera_positions = np.array([\"6x6\", \"9x4\", \"12x3\", \"18x2\"])\n",
    "    scenes = np.array(['ArchVizInterior', 'LightroomInteriorDayLight', 'office', 'RealisticRendering', 'XoioBerlinFlat'])\n",
    "    QPs = np.array([20, 36, 44, 48, 50])\n",
    "    synthesizers = np.array([\"AdditiveSynthesizer\", \"ViewWeightingSynthesizer\"])\n",
    "    numGroups = np.array([1])\n",
    "    pose_traces = np.array([f'pose{i}' for i in range(10)])\n",
    "    numFrame = 1\n",
    "\n",
    "    # bitrate_plot(camera_positions, scenes, QPs, synthesizers, numGroups, pose_traces, numFrame)\n",
    "    # quality_metrics_plot(camera_positions, scenes, QPs, synthesizers, numGroups, pose_traces, numFrame)\n",
    "    arc_and_flat(camera_positions, scenes, QPs, synthesizers, numGroups, pose_traces, numFrame)"
   ]
  },
  {
   "cell_type": "code",
   "execution_count": 294,
   "metadata": {},
   "outputs": [
    {
     "name": "stderr",
     "output_type": "stream",
     "text": [
      "No handles with labels found to put in legend.\n",
      "The PostScript backend does not support transparency; partially transparent artists will be rendered opaque.\n",
      "The PostScript backend does not support transparency; partially transparent artists will be rendered opaque.\n"
     ]
    },
    {
     "data": {
      "image/png": "[encoded data removed]",
      "text/plain": [
       "<Figure size 432x288 with 1 Axes>"
      ]
     },
     "metadata": {
      "needs_background": "light"
     },
     "output_type": "display_data"
    },
    {
     "name": "stderr",
     "output_type": "stream",
     "text": [
      "No handles with labels found to put in legend.\n",
      "The PostScript backend does not support transparency; partially transparent artists will be rendered opaque.\n",
      "The PostScript backend does not support transparency; partially transparent artists will be rendered opaque.\n"
     ]
    },
    {
     "data": {
      "image/png": "[encoded data removed]",
      "text/plain": [
       "<Figure size 432x288 with 1 Axes>"
      ]
     },
     "metadata": {
      "needs_background": "light"
     },
     "output_type": "display_data"
    },
    {
     "name": "stderr",
     "output_type": "stream",
     "text": [
      "No handles with labels found to put in legend.\n",
      "The PostScript backend does not support transparency; partially transparent artists will be rendered opaque.\n",
      "The PostScript backend does not support transparency; partially transparent artists will be rendered opaque.\n"
     ]
    },
    {
     "data": {
      "image/png": "[encoded data removed]",
      "text/plain": [
       "<Figure size 432x288 with 1 Axes>"
      ]
     },
     "metadata": {
      "needs_background": "light"
     },
     "output_type": "display_data"
    },
    {
     "data": {
      "text/plain": [
       "<Figure size 432x288 with 0 Axes>"
      ]
     },
     "metadata": {},
     "output_type": "display_data"
    }
   ],
   "source": [
    "if __name__ == '__main__':\n",
    "    main()"
   ]
  }
 ],
 "metadata": {
  "interpreter": {
   "hash": "04c984367b982b0aaf705f585c2564bb5d351f1cbef96d3ff2770a55c28795e5"
  },
  "kernelspec": {
   "display_name": "Python 3.8.8 64-bit ('base': conda)",
   "name": "python3"
  },
  "language_info": {
   "codemirror_mode": {
    "name": "ipython",
    "version": 3
   },
   "file_extension": ".py",
   "mimetype": "text/x-python",
   "name": "python",
   "nbconvert_exporter": "python",
   "pygments_lexer": "ipython3",
   "version": "3.8.8"
  },
  "orig_nbformat": 4
 },
 "nbformat": 4,
 "nbformat_minor": 2
}

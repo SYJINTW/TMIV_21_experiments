{
 "cells": [
  {
   "cell_type": "code",
   "execution_count": 77,
   "metadata": {},
   "outputs": [],
   "source": [
    "import os\n",
    "import numpy as np\n",
    "import pandas as pd\n",
    "import matplotlib.pyplot as plt\n",
    "import seaborn as sns\n",
    "from scipy import stats\n",
    "import math\n",
    "from bjontegaard_metric import *"
   ]
  },
  {
   "cell_type": "code",
   "execution_count": 78,
   "metadata": {},
   "outputs": [],
   "source": [
    "def bpm(t, c0, c1, c2, c3):\n",
    "    return c0+c1*t-c2*np.exp(-c3*t)"
   ]
  },
  {
   "cell_type": "code",
   "execution_count": 79,
   "metadata": {},
   "outputs": [],
   "source": [
    "def QP_average(camera_positions, scenes, QPs, synthesizers, numGroups, pose_traces, numFrame):\n",
    "    '''\n",
    "    Compare different QPs\n",
    "    synthesizer = 'AdditiveSynthesizer'\n",
    "    numGroup = 1\n",
    "    camera positions = '6x6'\n",
    "    all pose traces\n",
    "    all scenes\n",
    "    '''\n",
    "    doplot = False\n",
    "    \n",
    "    df = pd.DataFrame()\n",
    "    df = pd.read_csv(f'./results/all_nG1.csv')\n",
    "\n",
    "    df_tmp = df\n",
    "    # don't discuss sphere_6x6 camera placement \n",
    "    df_tmp = df_tmp.loc[(df_tmp[\"camera_position\"] != 'sphere_6x6')]\n",
    "    # set filter\n",
    "    df_tmp = df_tmp.loc[(df_tmp['synthesizer'] == 'AdditiveSynthesizer')]\n",
    "    df_tmp = df_tmp.loc[(df_tmp['camera_position'] == '6x6')]\n",
    "    df_tmp = df_tmp.loc[(df_tmp['scene'] == 'office')]\n",
    "\n",
    "    df_tmp['Mbitrate'] = df_tmp['bitrate'].apply(lambda x: x*(0.000001))\n",
    "    \n",
    "    # change scene name\n",
    "    df_tmp['scene'] = df_tmp['scene'].replace(['ArchVizInterior', 'LightroomInteriorDayLight', 'office', 'RealisticRendering', 'XoioBerlinFlat'], ['Arch', 'Light', 'Office', 'Real', 'Xoio'])\n",
    "    \n",
    "    # Do RD-curve\n",
    "    ax = sns.lineplot(x=f'Mbitrate', y=f'vmaf_mean', hue='scene', data=df_tmp, ci=None)\n",
    "    ax.set(xlabel=\"Bitrate (Mbps)\", ylabel=f\"VMAF\")\n",
    "    plt.ylim((0,100))\n",
    "    plt.legend(title='', loc='lower right')\n",
    "    if doplot:\n",
    "        plt.savefig(f'./img/QP_average/RDcurve_vmaf_bitrate_scene_in_AdditiveSynthesizer.eps', dpi=300)\n",
    "        plt.savefig(f'./img/QP_average/RDcurve_vmaf_bitrate_scene_in_AdditiveSynthesizer.png', dpi=300)\n",
    "    plt.show()\n",
    "\n",
    "    \n",
    "    guess = [150,0.1,100,0.05]\n",
    "\n",
    "    vmaf_data = []\n",
    "    bitrate_data = []\n",
    "    for QP in QPs:\n",
    "        vmaf_data.append(df_tmp.loc[df_tmp['QP'] == QP]['vmaf_mean'].mean())\n",
    "        bitrate_data.append(df_tmp.loc[df_tmp['QP'] == QP]['Mbitrate'].mean())\n",
    "\n",
    "    df_new = pd.DataFrame()\n",
    "    df_new['Mbitrate'] = np.array(bitrate_data)\n",
    "    df_new['vmaf_mean'] = np.array(vmaf_data)\n",
    "    \n",
    "    n = len(df_new['Mbitrate'])\n",
    "    y = np.empty(n)\n",
    "    for i in range(n):\n",
    "        y[i] = bpm(df_new['Mbitrate'][i], guess[0], guess[1], guess[2], guess[3])\n",
    "\n",
    "    plt.plot(df_new['Mbitrate'], df_new['vmaf_mean'])\n",
    "    plt.plot(df_new['Mbitrate'], y, 'r.')"
   ]
  },
  {
   "cell_type": "code",
   "execution_count": 80,
   "metadata": {},
   "outputs": [],
   "source": [
    "def main():\n",
    "    # setup paras\n",
    "    # camera_positions = np.array([\"6x6\", \"9x4\", \"12x3\", \"18x2\"])\n",
    "    # scenes = np.array(['ArchVizInterior', 'LightroomInteriorDayLight', 'office', 'RealisticRendering', 'XoioBerlinFlat'])\n",
    "    # QPs = np.array([20, 36, 44, 48, 50])\n",
    "    # synthesizers = np.array([\"AdditiveSynthesizer\", \"ViewWeightingSynthesizer\"])\n",
    "    # numGroups = np.array([1])\n",
    "    # pose_traces = np.array([f'pose{i}' for i in range(10)])\n",
    "    # numFrame = 1\n",
    "\n",
    "    # 1\n",
    "    camera_positions = np.array([\"6x6\", \"9x4\", \"12x3\", \"18x2\"])\n",
    "    scenes = np.array(['ArchVizInterior', 'LightroomInteriorDayLight', 'office', 'RealisticRendering', 'XoioBerlinFlat'])\n",
    "    QPs = np.array([20, 36, 44, 48, 50])\n",
    "    synthesizers = np.array([\"AdditiveSynthesizer\", \"ViewWeightingSynthesizer\"])\n",
    "    numGroups = np.array([1])\n",
    "    pose_traces = np.array([f'pose{i}' for i in range(10)])\n",
    "    numFrame = 1\n",
    "\n",
    "    \n",
    "    QP_average(camera_positions, scenes, QPs, synthesizers, numGroups, pose_traces, numFrame)"
   ]
  },
  {
   "cell_type": "code",
   "execution_count": 81,
   "metadata": {},
   "outputs": [
    {
     "data": {
      "image/png": "[encoded data removed]",
      "text/plain": [
       "<Figure size 432x288 with 1 Axes>"
      ]
     },
     "metadata": {
      "needs_background": "light"
     },
     "output_type": "display_data"
    },
    {
     "data": {
      "image/png": "[encoded data removed]",
      "text/plain": [
       "<Figure size 432x288 with 1 Axes>"
      ]
     },
     "metadata": {
      "needs_background": "light"
     },
     "output_type": "display_data"
    }
   ],
   "source": [
    "if __name__ == '__main__':\n",
    "    main()"
   ]
  }
 ],
 "metadata": {
  "interpreter": {
   "hash": "4c4e8267fe3b9088a035ae44dec0e1710f1f649c1d516f5cd80e615a12280b47"
  },
  "kernelspec": {
   "display_name": "Python 3.8.8 64-bit ('base': conda)",
   "language": "python",
   "name": "python3"
  },
  "language_info": {
   "codemirror_mode": {
    "name": "ipython",
    "version": 3
   },
   "file_extension": ".py",
   "mimetype": "text/x-python",
   "name": "python",
   "nbconvert_exporter": "python",
   "pygments_lexer": "ipython3",
   "version": "3.8.8"
  },
  "orig_nbformat": 4
 },
 "nbformat": 4,
 "nbformat_minor": 2
}

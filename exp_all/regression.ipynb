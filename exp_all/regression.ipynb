{
 "cells": [
  {
   "cell_type": "code",
   "execution_count": 360,
   "metadata": {},
   "outputs": [],
   "source": [
    "import os\n",
    "import numpy as np\n",
    "import pandas as pd\n",
    "import matplotlib.pyplot as plt\n",
    "import seaborn as sns\n",
    "from scipy import stats\n",
    "from scipy.optimize import curve_fit\n",
    "import math\n",
    "from bjontegaard_metric import *\n",
    "from sklearn.metrics import r2_score"
   ]
  },
  {
   "cell_type": "code",
   "execution_count": 361,
   "metadata": {},
   "outputs": [],
   "source": [
    "def bpm(t, c0, c1, c2, c3):\n",
    "    return c0+c1*t-c2*np.exp(-c3*t)"
   ]
  },
  {
   "cell_type": "code",
   "execution_count": 362,
   "metadata": {},
   "outputs": [],
   "source": [
    "def modeling(camera_positions, scenes, QPs, synthesizers, numGroups, pose_traces, numFrame):\n",
    "    '''\n",
    "    Compare different QPs\n",
    "    synthesizer = 'AdditiveSynthesizer'\n",
    "    numGroup = 1\n",
    "    camera positions = '6x6'\n",
    "    all pose traces\n",
    "    all scenes\n",
    "    '''\n",
    "    doplot = False\n",
    "\n",
    "    scenes = np.array(['LightroomInteriorDayLight', 'office', 'RealisticRendering', 'XoioBerlinFlat'])\n",
    "    \n",
    "    df = pd.DataFrame()\n",
    "    df = pd.read_csv(f'./results/0_to_50_all_nG1.csv')\n",
    "\n",
    "    # for scene in ['LightroomInteriorDayLight']:\n",
    "    for scene in scenes:\n",
    "        print(scene)\n",
    "        # Baseline data\n",
    "        df_tmp = df\n",
    "        # don't discuss sphere_6x6 camera placement \n",
    "        df_tmp = df_tmp.loc[(df_tmp[\"camera_position\"] != 'sphere_6x6')]\n",
    "        # set filter\n",
    "        df_tmp = df_tmp.loc[(df_tmp['synthesizer'] == 'AdditiveSynthesizer')]\n",
    "        df_tmp = df_tmp.loc[(df_tmp['camera_position'] == '6x6')]\n",
    "        df_tmp = df_tmp.loc[(df_tmp['scene'] == scene)]\n",
    "\n",
    "        df_tmp['Mbitrate'] = df_tmp['bitrate'].apply(lambda x: x*(0.000001))\n",
    "        # change scene name\n",
    "        df_tmp['scene'] = df_tmp['scene'].replace(['ArchVizInterior', 'LightroomInteriorDayLight', 'office', 'RealisticRendering', 'XoioBerlinFlat'], ['Arch', 'Light', 'Office', 'Real', 'Xoio'])\n",
    "        \n",
    "        # # Do RD-curve\n",
    "        # ax = sns.lineplot(x=f'Mbitrate', y=f'vmaf_mean', data=df_tmp, ci=None)\n",
    "        # ax.set(xlabel=\"Bitrate (Mbps)\", ylabel=f\"Quality in VMAF\")\n",
    "        # plt.ylim((0,100))\n",
    "        # if doplot:\n",
    "        #     plt.savefig(f'./img/QP_average/RDcurve_vmaf_bitrate_scene_in_AdditiveSynthesizer.eps', dpi=300, pad_inches=0, bbox_inches='tight')\n",
    "        #     plt.savefig(f'./img/QP_average/RDcurve_vmaf_bitrate_scene_in_AdditiveSynthesizer.png', dpi=300, pad_inches=0, bbox_inches='tight')\n",
    "        # plt.show()\n",
    "        \n",
    "        # guess = [70,0.01,100,0.03]\n",
    "        guess = [63,0.0001,37,1]\n",
    "\n",
    "        \n",
    "\n",
    "        vmaf_data = []\n",
    "        bitrate_data = []\n",
    "        for QP in QPs:\n",
    "            vmaf_data.append(df_tmp.loc[df_tmp['QP'] == QP]['vmaf_mean'].mean())\n",
    "            bitrate_data.append(df_tmp.loc[df_tmp['QP'] == QP]['Mbitrate'].mean())\n",
    "\n",
    "        df_new = pd.DataFrame()\n",
    "        df_new['Mbitrate'] = np.array(bitrate_data)\n",
    "        df_new['vmaf_mean'] = np.array(vmaf_data)\n",
    "\n",
    "        \n",
    "\n",
    "        n = len(df_new['Mbitrate'])\n",
    "        y = np.empty(n)\n",
    "        for i in range(n):\n",
    "            y[i] = bpm(df_new['Mbitrate'][i], guess[0], guess[1], guess[2], guess[3])\n",
    "\n",
    "        # plt.plot(df_new['Mbitrate'], df_new['vmaf_mean'])\n",
    "        # plt.plot(df_new['Mbitrate'], y, 'r.')\n",
    "        # plt.show()\n",
    "\n",
    "\n",
    "        x = df_new['Mbitrate'].values\n",
    "        y = df_new['vmaf_mean'].values\n",
    "        c, cov = curve_fit(bpm,x,y,guess)\n",
    "        print(c) # the coefficient\n",
    "\n",
    "        x_min = df_new['Mbitrate'].min()\n",
    "        x_max = df_new['Mbitrate'].max()\n",
    "        x_reg = np.linspace(x_min, x_max, num=100)\n",
    "        y_reg = np.empty(len(x_reg))\n",
    "        for i in range(len(x_reg)):\n",
    "            y_reg[i] = bpm(x_reg[i], c[0], c[1], c[2], c[3])\n",
    "        \n",
    "        y_reg = []\n",
    "        for i in df_new['Mbitrate']:\n",
    "            y_reg.append(bpm(i, c[0], c[1], c[2], c[3]))\n",
    "\n",
    "        plt.plot(df_new['Mbitrate'], df_new['vmaf_mean'])\n",
    "        plt.plot(df_new['Mbitrate'], y_reg, 'r.')\n",
    "        plt.show()\n",
    "\n",
    "\n",
    "        print('R^2:', r2_score(df_new['vmaf_mean'].values, y_reg))\n",
    "\n",
    "\n",
    "        \n",
    "    \n",
    "\n",
    "    "
   ]
  },
  {
   "cell_type": "code",
   "execution_count": 363,
   "metadata": {},
   "outputs": [],
   "source": [
    "def main():\n",
    "    # setup paras\n",
    "    # camera_positions = np.array([\"6x6\", \"9x4\", \"12x3\", \"18x2\"])\n",
    "    # scenes = np.array(['ArchVizInterior', 'LightroomInteriorDayLight', 'office', 'RealisticRendering', 'XoioBerlinFlat'])\n",
    "    # QPs = np.array([20, 36, 44, 48, 50])\n",
    "    # synthesizers = np.array([\"AdditiveSynthesizer\", \"ViewWeightingSynthesizer\"])\n",
    "    # numGroups = np.array([1])\n",
    "    # pose_traces = np.array([f'pose{i}' for i in range(10)])\n",
    "    # numFrame = 1\n",
    "\n",
    "    # 1\n",
    "    camera_positions = np.array([\"6x6\", \"9x4\", \"12x3\", \"18x2\"])\n",
    "    scenes = np.array(['ArchVizInterior', 'LightroomInteriorDayLight', 'office', 'RealisticRendering', 'XoioBerlinFlat'])\n",
    "    QPs = np.array([0, 8, 16, 20, 28, 36, 44, 48, 50])\n",
    "    synthesizers = np.array([\"AdditiveSynthesizer\", \"ViewWeightingSynthesizer\"])\n",
    "    numGroups = np.array([1])\n",
    "    pose_traces = np.array([f'pose{i}' for i in range(10)])\n",
    "    numFrame = 1\n",
    "\n",
    "    \n",
    "    modeling(camera_positions, scenes, QPs, synthesizers, numGroups, pose_traces, numFrame)"
   ]
  },
  {
   "cell_type": "code",
   "execution_count": 364,
   "metadata": {},
   "outputs": [
    {
     "name": "stdout",
     "output_type": "stream",
     "text": [
      "LightroomInteriorDayLight\n",
      "[6.23300438e+01 3.83887762e-02 1.43620879e+02 4.87038295e+00]\n"
     ]
    },
    {
     "data": {
      "image/png": "[encoded data removed]",
      "text/plain": [
       "<Figure size 432x288 with 1 Axes>"
      ]
     },
     "metadata": {
      "needs_background": "light"
     },
     "output_type": "display_data"
    },
    {
     "name": "stdout",
     "output_type": "stream",
     "text": [
      "R^2: 0.9938385973811543\n",
      "office\n",
      "[6.10507428e+01 2.96625530e-02 6.75457502e+01 1.14343773e+00]\n"
     ]
    },
    {
     "data": {
      "image/png": "[encoded data removed]",
      "text/plain": [
       "<Figure size 432x288 with 1 Axes>"
      ]
     },
     "metadata": {
      "needs_background": "light"
     },
     "output_type": "display_data"
    },
    {
     "name": "stdout",
     "output_type": "stream",
     "text": [
      "R^2: 0.9977088390359721\n",
      "RealisticRendering\n",
      "[6.71157168e+01 3.37138070e-02 6.56318716e+01 1.82661831e+00]\n"
     ]
    },
    {
     "data": {
      "image/png": "[encoded data removed]",
      "text/plain": [
       "<Figure size 432x288 with 1 Axes>"
      ]
     },
     "metadata": {
      "needs_background": "light"
     },
     "output_type": "display_data"
    },
    {
     "name": "stdout",
     "output_type": "stream",
     "text": [
      "R^2: 0.9959295503677529\n",
      "XoioBerlinFlat\n",
      "[6.75637876e+01 4.16823945e-02 1.03386755e+02 2.95103069e+00]\n"
     ]
    },
    {
     "data": {
      "image/png": "[encoded data removed]",
      "text/plain": [
       "<Figure size 432x288 with 1 Axes>"
      ]
     },
     "metadata": {
      "needs_background": "light"
     },
     "output_type": "display_data"
    },
    {
     "name": "stdout",
     "output_type": "stream",
     "text": [
      "R^2: 0.9955632531779859\n"
     ]
    }
   ],
   "source": [
    "if __name__ == '__main__':\n",
    "    main()"
   ]
  }
 ],
 "metadata": {
  "interpreter": {
   "hash": "4c4e8267fe3b9088a035ae44dec0e1710f1f649c1d516f5cd80e615a12280b47"
  },
  "kernelspec": {
   "display_name": "Python 3.8.8 64-bit ('base': conda)",
   "language": "python",
   "name": "python3"
  },
  "language_info": {
   "codemirror_mode": {
    "name": "ipython",
    "version": 3
   },
   "file_extension": ".py",
   "mimetype": "text/x-python",
   "name": "python",
   "nbconvert_exporter": "python",
   "pygments_lexer": "ipython3",
   "version": "3.8.8"
  },
  "orig_nbformat": 4
 },
 "nbformat": 4,
 "nbformat_minor": 2
}
